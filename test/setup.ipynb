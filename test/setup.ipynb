{
 "cells": [
  {
   "cell_type": "code",
   "execution_count": 1,
   "metadata": {},
   "outputs": [],
   "source": [
    "from pymilvus import Collection, connections, FieldSchema, CollectionSchema, DataType\n",
    "from dotenv import load_dotenv\n",
    "import os"
   ]
  },
  {
   "cell_type": "code",
   "execution_count": null,
   "metadata": {},
   "outputs": [],
   "source": [
    "from pymilvus import connections\n",
    "\n",
    "# Replace with your Zilliz Cloud credentials\n",
    "host = \"your-cloud-host.zillizcloud.com\"  # Zilliz Cloud database host\n",
    "port = \"19530\"  # Default port\n",
    "token = \"your-zilliz-cloud-token\"  # Token from Zilliz Cloud\n",
    "\n",
    "# Connect to Zilliz Cloud\n",
    "connections.connect(\"default\", host=host, port=port, user=\"\", password=token, secure=True)\n",
    "print(\"Connected to Zilliz Cloud\")"
   ]
  },
  {
   "cell_type": "code",
   "execution_count": null,
   "metadata": {},
   "outputs": [],
   "source": []
  },
  {
   "cell_type": "code",
   "execution_count": 2,
   "metadata": {},
   "outputs": [],
   "source": [
    "load_dotenv()\n",
    "\n",
    "# Connect to Zilliz Cloud\n",
    "connections.connect(\n",
    "    alias=\"default\",\n",
    "    uri=os.getenv(\"ZILLIZ_URI\"),\n",
    "    token=os.getenv(\"ZILLIZ_TOKEN\")    \n",
    ")"
   ]
  },
  {
   "cell_type": "code",
   "execution_count": null,
   "metadata": {},
   "outputs": [],
   "source": []
  },
  {
   "cell_type": "code",
   "execution_count": null,
   "metadata": {},
   "outputs": [],
   "source": []
  },
  {
   "cell_type": "code",
   "execution_count": null,
   "metadata": {},
   "outputs": [],
   "source": []
  },
  {
   "cell_type": "code",
   "execution_count": 3,
   "metadata": {},
   "outputs": [
    {
     "ename": "ConnectionConfigException",
     "evalue": "<ConnectionConfigException: (code=1, message=Alias of 'default' already creating connections, but the configure is not the same as passed in.)>",
     "output_type": "error",
     "traceback": [
      "\u001b[1;31m---------------------------------------------------------------------------\u001b[0m",
      "\u001b[1;31mConnectionConfigException\u001b[0m                 Traceback (most recent call last)",
      "Cell \u001b[1;32mIn[3], line 8\u001b[0m\n\u001b[0;32m      6\u001b[0m port \u001b[38;5;241m=\u001b[39m \u001b[38;5;124m\"\u001b[39m\u001b[38;5;124m3000\u001b[39m\u001b[38;5;124m\"\u001b[39m\n\u001b[0;32m      7\u001b[0m token \u001b[38;5;241m=\u001b[39m os\u001b[38;5;241m.\u001b[39mgetenv(\u001b[38;5;124m\"\u001b[39m\u001b[38;5;124mZILLIZ_TOKEN\u001b[39m\u001b[38;5;124m\"\u001b[39m)\n\u001b[1;32m----> 8\u001b[0m \u001b[43mconnections\u001b[49m\u001b[38;5;241;43m.\u001b[39;49m\u001b[43mconnect\u001b[49m\u001b[43m(\u001b[49m\u001b[38;5;124;43m\"\u001b[39;49m\u001b[38;5;124;43mdefault\u001b[39;49m\u001b[38;5;124;43m\"\u001b[39;49m\u001b[43m,\u001b[49m\u001b[43m \u001b[49m\u001b[43muri\u001b[49m\u001b[38;5;241;43m=\u001b[39;49m\u001b[38;5;124;43mf\u001b[39;49m\u001b[38;5;124;43m\"\u001b[39;49m\u001b[38;5;124;43mhttps://\u001b[39;49m\u001b[38;5;132;43;01m{\u001b[39;49;00m\u001b[43mpublic_endpoint\u001b[49m\u001b[38;5;132;43;01m}\u001b[39;49;00m\u001b[38;5;124;43m:\u001b[39;49m\u001b[38;5;132;43;01m{\u001b[39;49;00m\u001b[43mport\u001b[49m\u001b[38;5;132;43;01m}\u001b[39;49;00m\u001b[38;5;124;43m\"\u001b[39;49m\u001b[43m,\u001b[49m\u001b[43m \u001b[49m\u001b[43mtoken\u001b[49m\u001b[38;5;241;43m=\u001b[39;49m\u001b[43mtoken\u001b[49m\u001b[43m)\u001b[49m\n\u001b[0;32m     10\u001b[0m \u001b[38;5;66;03m# Step 2: Create collection\u001b[39;00m\n\u001b[0;32m     11\u001b[0m id_field \u001b[38;5;241m=\u001b[39m FieldSchema(name\u001b[38;5;241m=\u001b[39m\u001b[38;5;124m\"\u001b[39m\u001b[38;5;124mid\u001b[39m\u001b[38;5;124m\"\u001b[39m, dtype\u001b[38;5;241m=\u001b[39mDataType\u001b[38;5;241m.\u001b[39mINT64, is_primary\u001b[38;5;241m=\u001b[39m\u001b[38;5;28;01mTrue\u001b[39;00m, auto_id\u001b[38;5;241m=\u001b[39m\u001b[38;5;28;01mTrue\u001b[39;00m)\n",
      "File \u001b[1;32md:\\Projects\\Hackathons\\SIH'24\\trade-mark-saarthi\\venv\\Lib\\site-packages\\pymilvus\\orm\\connections.py:434\u001b[0m, in \u001b[0;36mConnections.connect\u001b[1;34m(self, alias, user, password, db_name, token, **kwargs)\u001b[0m\n\u001b[0;32m    431\u001b[0m kwargs[\u001b[38;5;124m\"\u001b[39m\u001b[38;5;124maddress\u001b[39m\u001b[38;5;124m\"\u001b[39m] \u001b[38;5;241m=\u001b[39m addr\n\u001b[0;32m    433\u001b[0m \u001b[38;5;28;01mif\u001b[39;00m \u001b[38;5;28mself\u001b[39m\u001b[38;5;241m.\u001b[39mhas_connection(alias) \u001b[38;5;129;01mand\u001b[39;00m \u001b[38;5;28mself\u001b[39m\u001b[38;5;241m.\u001b[39m_alias[alias]\u001b[38;5;241m.\u001b[39mget(\u001b[38;5;124m\"\u001b[39m\u001b[38;5;124maddress\u001b[39m\u001b[38;5;124m\"\u001b[39m) \u001b[38;5;241m!=\u001b[39m addr:\n\u001b[1;32m--> 434\u001b[0m     \u001b[38;5;28;01mraise\u001b[39;00m ConnectionConfigException(message\u001b[38;5;241m=\u001b[39mExceptionsMessage\u001b[38;5;241m.\u001b[39mConnDiffConf \u001b[38;5;241m%\u001b[39m alias)\n\u001b[0;32m    436\u001b[0m \u001b[38;5;66;03m# uri might take extra info\u001b[39;00m\n\u001b[0;32m    437\u001b[0m \u001b[38;5;28;01mif\u001b[39;00m parsed_uri \u001b[38;5;129;01mis\u001b[39;00m \u001b[38;5;129;01mnot\u001b[39;00m \u001b[38;5;28;01mNone\u001b[39;00m:\n\u001b[0;32m    438\u001b[0m     \u001b[38;5;66;03m# get db_name from uri\u001b[39;00m\n",
      "\u001b[1;31mConnectionConfigException\u001b[0m: <ConnectionConfigException: (code=1, message=Alias of 'default' already creating connections, but the configure is not the same as passed in.)>"
     ]
    }
   ],
   "source": [
    "from pymilvus import connections, CollectionSchema, FieldSchema, DataType, Collection\n",
    "import numpy as np\n",
    "\n",
    "# Step 1: Connect to Zilliz Cloud\n",
    "public_endpoint = os.getenv(\"ZILLIZ_URI\")\n",
    "port = \"3000\"\n",
    "token = os.getenv(\"ZILLIZ_TOKEN\")\n",
    "connections.connect(\"default\", uri=f\"https://{public_endpoint}:{port}\", token=token)\n",
    "\n",
    "# Step 2: Create collection\n",
    "id_field = FieldSchema(name=\"id\", dtype=DataType.INT64, is_primary=True, auto_id=True)\n",
    "vector_field = FieldSchema(name=\"embedding\", dtype=DataType.FLOAT_VECTOR, dim=128)\n",
    "schema = CollectionSchema(fields=[id_field, vector_field], description=\"Example vector collection\")\n",
    "collection_name = \"example_collection\"\n",
    "collection = Collection(name=collection_name, schema=schema)\n",
    "\n",
    "# # Step 3: Insert data\n",
    "# vectors = np.random.random([10, 128]).tolist()\n",
    "# collection.insert([vectors])\n",
    "\n",
    "# # Step 4: Search\n",
    "# collection.load()\n",
    "# query_vector = [np.random.random(128).tolist()]\n",
    "# search_params = {\"metric_type\": \"L2\", \"params\": {\"nprobe\": 10}}\n",
    "# results = collection.search(\n",
    "#     data=query_vector,\n",
    "#     anns_field=\"embedding\",\n",
    "#     param=search_params,\n",
    "#     limit=3\n",
    "# )\n",
    "# for result in results[0]:\n",
    "#     print(f\"ID: {result.id}, Distance: {result.distance}\")\n",
    "\n",
    "# Step 5: Drop collection\n",
    "# collection.drop()\n"
   ]
  },
  {
   "cell_type": "code",
   "execution_count": null,
   "metadata": {},
   "outputs": [],
   "source": []
  },
  {
   "cell_type": "code",
   "execution_count": null,
   "metadata": {},
   "outputs": [],
   "source": []
  },
  {
   "cell_type": "code",
   "execution_count": null,
   "metadata": {},
   "outputs": [],
   "source": []
  }
 ],
 "metadata": {
  "kernelspec": {
   "display_name": "venv",
   "language": "python",
   "name": "python3"
  },
  "language_info": {
   "codemirror_mode": {
    "name": "ipython",
    "version": 3
   },
   "file_extension": ".py",
   "mimetype": "text/x-python",
   "name": "python",
   "nbconvert_exporter": "python",
   "pygments_lexer": "ipython3",
   "version": "3.11.5"
  }
 },
 "nbformat": 4,
 "nbformat_minor": 2
}

{
 "cells": [
  {
   "cell_type": "code",
   "execution_count": 5,
   "metadata": {},
   "outputs": [
    {
     "name": "stdout",
     "output_type": "stream",
     "text": [
      "Table saved to test1.csv\n"
     ]
    }
   ],
   "source": [
    "import pandas as pd\n",
    "\n",
    "# Specify the path to your HTML file\n",
    "html_file = \"../dataset/TestExcel(1).html\"\n",
    "\n",
    "# Extract tables from the HTML file\n",
    "tables = pd.read_html(html_file)\n",
    "\n",
    "# Assuming the relevant table is the first one\n",
    "df = tables[0]\n",
    "\n",
    "# Rename columns to match your desired titles\n",
    "df.columns = [\n",
    "    \"Title-Code\",\n",
    "    \"Title Name\",\n",
    "    \"Hindi Title\",\n",
    "    \"Register Serial No\",\n",
    "    \"Regn No.\",\n",
    "    \"Owner Name\",\n",
    "    \"State\",\n",
    "    \"Publication City/District\",\n",
    "    \"Periodity\"\n",
    "]\n",
    "\n",
    "# Save the DataFrame to a CSV file\n",
    "output_file = \"test1.csv\"\n",
    "df.to_csv(output_file, index=False, encoding=\"utf-8\")\n",
    "\n",
    "print(f\"Table saved to {output_file}\")"
   ]
  },
  {
   "cell_type": "code",
   "execution_count": null,
   "metadata": {},
   "outputs": [],
   "source": []
  },
  {
   "cell_type": "code",
   "execution_count": null,
   "metadata": {},
   "outputs": [],
   "source": []
  },
  {
   "cell_type": "code",
   "execution_count": null,
   "metadata": {},
   "outputs": [],
   "source": []
  },
  {
   "cell_type": "code",
   "execution_count": null,
   "metadata": {},
   "outputs": [],
   "source": []
  },
  {
   "cell_type": "code",
   "execution_count": 15,
   "metadata": {},
   "outputs": [
    {
     "name": "stdout",
     "output_type": "stream",
     "text": [
      "Table saved to final.csv\n"
     ]
    }
   ],
   "source": [
    "import pandas as pd\n",
    "\n",
    "# Specify the path to your HTML file\n",
    "html_file = \"../dataset/final.html\"\n",
    "\n",
    "# Extract tables from the HTML file\n",
    "tables = pd.read_html(html_file)\n",
    "\n",
    "# Assuming the relevant table is the first one\n",
    "df = tables[0]\n",
    "\n",
    "# Rename columns to match your desired titles\n",
    "df.columns = [\n",
    "    \"Title-Code\",\n",
    "    \"Title Name\",\n",
    "    \"Hindi Title\",\n",
    "    \"Register Serial No\",\n",
    "    \"Regn No.\",\n",
    "    \"Owner Name\",\n",
    "    \"State\",\n",
    "    \"Publication City/District\",\n",
    "    \"Periodity\"\n",
    "]\n",
    "\n",
    "# Save the DataFrame to a CSV file\n",
    "output_file = \"final.csv\"\n",
    "df.to_csv(output_file, index=False, encoding=\"utf-8\")\n",
    "\n",
    "print(f\"Table saved to {output_file}\")"
   ]
  },
  {
   "cell_type": "code",
   "execution_count": 14,
   "metadata": {},
   "outputs": [
    {
     "name": "stdout",
     "output_type": "stream",
     "text": [
      "File: test0.csv\n",
      "Number of rows: 224\n",
      "Columns: ['Title-Code', 'Title Name', 'Hindi Title', 'Register Serial No', 'Regn No.', 'Owner Name', 'State', 'Publication City/District', 'Periodity']\n",
      "File: test1.csv\n",
      "Number of rows: 8219\n",
      "Columns: ['Title-Code', 'Title Name', 'Hindi Title', 'Register Serial No', 'Regn No.', 'Owner Name', 'State', 'Publication City/District', 'Periodity']\n",
      "File: test2.csv\n",
      "Number of rows: 1856\n",
      "Columns: ['Title-Code', 'Title Name', 'Hindi Title', 'Register Serial No', 'Regn No.', 'Owner Name', 'State', 'Publication City/District', 'Periodity']\n",
      "File: test3.csv\n",
      "Number of rows: 3818\n",
      "Columns: ['Title-Code', 'Title Name', 'Hindi Title', 'Register Serial No', 'Regn No.', 'Owner Name', 'State', 'Publication City/District', 'Periodity']\n",
      "File: test4.csv\n",
      "Number of rows: 49\n",
      "Columns: ['Title-Code', 'Title Name', 'Hindi Title', 'Register Serial No', 'Regn No.', 'Owner Name', 'State', 'Publication City/District', 'Periodity']\n",
      "File: test5.csv\n",
      "Number of rows: 919\n",
      "Columns: ['Title-Code', 'Title Name', 'Hindi Title', 'Register Serial No', 'Regn No.', 'Owner Name', 'State', 'Publication City/District', 'Periodity']\n"
     ]
    }
   ],
   "source": [
    "import pandas as pd\n",
    "\n",
    "# List of CSV file names\n",
    "csv_files = [f\"test{i}.csv\" for i in range(6)]\n",
    "\n",
    "# Loop through each file, load it, and print its info\n",
    "for file in csv_files:\n",
    "    # Load the CSV file into a DataFrame\n",
    "    df = pd.read_csv(file)\n",
    "    \n",
    "    # Print the file name and basic information\n",
    "    print(f\"File: {file}\")\n",
    "    print(f\"Number of rows: {len(df)}\")\n",
    "    print(\"Columns:\", df.columns.tolist())\n",
    "    # print(\"First few rows:\")\n",
    "    # print(df.head(1), \"\\n\")"
   ]
  },
  {
   "cell_type": "markdown",
   "metadata": {},
   "source": [
    "#### Final is concatenation of all 6 test csvs"
   ]
  },
  {
   "cell_type": "code",
   "execution_count": 16,
   "metadata": {},
   "outputs": [
    {
     "name": "stdout",
     "output_type": "stream",
     "text": [
      "File: final.csv\n",
      "Number of rows: 15085\n",
      "Columns: ['Title-Code', 'Title Name', 'Hindi Title', 'Register Serial No', 'Regn No.', 'Owner Name', 'State', 'Publication City/District', 'Periodity']\n"
     ]
    }
   ],
   "source": [
    "import pandas as pd\n",
    "\n",
    "# List of CSV file names\n",
    "csv_files = [\"final.csv\"]\n",
    "\n",
    "# Loop through each file, load it, and print its info\n",
    "for file in csv_files:\n",
    "    # Load the CSV file into a DataFrame\n",
    "    df = pd.read_csv(file)\n",
    "    \n",
    "    # Print the file name and basic information\n",
    "    print(f\"File: {file}\")\n",
    "    print(f\"Number of rows: {len(df)}\")\n",
    "    print(\"Columns:\", df.columns.tolist())\n",
    "    # print(\"First few rows:\")\n",
    "    # print(df.head(1), \"\\n\")"
   ]
  },
  {
   "cell_type": "code",
   "execution_count": null,
   "metadata": {},
   "outputs": [],
   "source": [
    "import pandas as pd\n",
    "\n",
    "csv_files = [f\"test{i}.csv\" for i in range(6)]\n",
    "\n",
    "# Loop through each file, load it, and print its info\n",
    "for file in csv_files:\n",
    "\n",
    "    df = pd.read_csv(file)\n",
    "\n",
    "    # Calculate the number of duplicate values for each column\n",
    "    duplicate_counts = df.apply(lambda col: col.duplicated().sum())\n",
    "\n",
    "    # Print the result\n",
    "    print(f\"Duplicate counts for each column in '{file}':\")\n",
    "    print(duplicate_counts)\n"
   ]
  },
  {
   "cell_type": "code",
   "execution_count": null,
   "metadata": {},
   "outputs": [],
   "source": []
  },
  {
   "cell_type": "code",
   "execution_count": 23,
   "metadata": {},
   "outputs": [
    {
     "name": "stdout",
     "output_type": "stream",
     "text": [
      "Duplicate counts for each column in 'final.csv':\n",
      "Title-Code                     270\n",
      "Title Name                    2762\n",
      "Hindi Title                   9873\n",
      "Register Serial No            1215\n",
      "Regn No.                      1282\n",
      "Owner Name                    3054\n",
      "State                        15048\n",
      "Publication City/District    14217\n",
      "Periodity                    15064\n",
      "dtype: int64\n"
     ]
    }
   ],
   "source": [
    "import pandas as pd\n",
    "\n",
    "# Load the CSV file into a DataFrame\n",
    "csv_file = \"final.csv\"  # Replace with your CSV file name\n",
    "df = pd.read_csv(csv_file)\n",
    "\n",
    "# Calculate the number of duplicate values for each column\n",
    "duplicate_counts = df.apply(lambda col: col.duplicated().sum())\n",
    "\n",
    "# Print the result\n",
    "print(f\"Duplicate counts for each column in '{csv_file}':\")\n",
    "print(duplicate_counts)\n"
   ]
  },
  {
   "cell_type": "code",
   "execution_count": null,
   "metadata": {},
   "outputs": [],
   "source": [
    "import pandas as pd\n",
    "\n",
    "# Load the CSV file\n",
    "csv_file = \"final.csv\"  # Replace with your CSV file name\n",
    "df = pd.read_csv(csv_file)\n",
    "\n",
    "print(f\"--- Analysis for '{csv_file}' ---\\n\")\n",
    "\n",
    "# 1. General Information\n",
    "print(\"1. General Information:\")\n",
    "print(df.info(), \"\\n\")\n",
    "\n",
    "# 2. Shape of the DataFrame\n",
    "print(f\"2. Shape of the DataFrame: {df.shape[0]} rows, {df.shape[1]} columns\\n\")\n",
    "\n",
    "# 3. Column Names\n",
    "print(\"3. Column Names:\")\n",
    "print(df.columns.tolist(), \"\\n\")\n",
    "\n",
    "# 4. Sample Data\n",
    "print(\"4. Sample Data (First 5 Rows):\")\n",
    "print(df.head(), \"\\n\")\n",
    "\n",
    "# 5. Missing Values\n",
    "print(\"5. Missing Values (Null Counts per Column):\")\n",
    "print(df.isnull().sum(), \"\\n\")\n",
    "\n",
    "# 6. Duplicate Rows\n",
    "print(f\"6. Duplicate Rows: {df.duplicated().sum()} found\\n\")\n",
    "\n",
    "# 7. Duplicate Counts per Column\n",
    "print(\"7. Duplicate Counts per Column:\")\n",
    "print(df.apply(lambda col: col.duplicated().sum()), \"\\n\")\n",
    "\n",
    "# 8. Descriptive Statistics for Numerical Columns\n",
    "print(\"8. Descriptive Statistics for Numerical Columns:\")\n",
    "print(df.describe(), \"\\n\")\n",
    "\n",
    "# 9. Descriptive Statistics for All Columns\n",
    "print(\"9. Descriptive Statistics for All Columns (Including Non-Numerical):\")\n",
    "print(df.describe(include=\"all\"), \"\\n\")\n",
    "\n",
    "# 10. Unique Values per Column\n",
    "print(\"10. Unique Values per Column:\")\n",
    "print(df.nunique(), \"\\n\")\n",
    "\n",
    "# 11. Data Types\n",
    "print(\"11. Data Types:\")\n",
    "print(df.dtypes, \"\\n\")\n",
    "\n",
    "# 12. Correlation Matrix (for numerical columns)\n",
    "if df.select_dtypes(include='number').shape[1] > 1:  # Check if numerical columns exist\n",
    "    print(\"12. Correlation Matrix (Numerical Columns):\")\n",
    "    print(df.corr(), \"\\n\")\n",
    "else:\n",
    "    print(\"12. No numerical columns for correlation analysis.\\n\")\n"
   ]
  },
  {
   "cell_type": "code",
   "execution_count": null,
   "metadata": {},
   "outputs": [],
   "source": []
  },
  {
   "cell_type": "code",
   "execution_count": null,
   "metadata": {},
   "outputs": [],
   "source": [
    "import pandas as pd\n",
    "\n",
    "# Load the CSV file\n",
    "csv_file = \"final.csv\"  # Replace with your CSV file name\n",
    "df = pd.read_csv(csv_file)\n",
    "\n",
    "# Iterate over each column to group and sort duplicates\n",
    "for column in df.columns:\n",
    "    duplicates = df[df[column].duplicated(keep=False)]  # Rows with duplicates in the column\n",
    "    grouped = duplicates.groupby(column).size().sort_values(ascending=False)  # Group and sort by count\n",
    "    if not grouped.empty:  # Only display if there are duplicates\n",
    "        print(f\"Sorted duplicate groups for column '{column}':\")\n",
    "        print(grouped, \"\\n\")"
   ]
  },
  {
   "cell_type": "code",
   "execution_count": 1,
   "metadata": {},
   "outputs": [],
   "source": [
    "import pandas as pd\n",
    "df=pd.read_csv('final.csv')"
   ]
  },
  {
   "cell_type": "code",
   "execution_count": 2,
   "metadata": {},
   "outputs": [],
   "source": [
    "clean_df=df.drop_duplicates(subset=['Title-Code'])"
   ]
  },
  {
   "cell_type": "code",
   "execution_count": 5,
   "metadata": {},
   "outputs": [
    {
     "data": {
      "text/html": [
       "<div>\n",
       "<style scoped>\n",
       "    .dataframe tbody tr th:only-of-type {\n",
       "        vertical-align: middle;\n",
       "    }\n",
       "\n",
       "    .dataframe tbody tr th {\n",
       "        vertical-align: top;\n",
       "    }\n",
       "\n",
       "    .dataframe thead th {\n",
       "        text-align: right;\n",
       "    }\n",
       "</style>\n",
       "<table border=\"1\" class=\"dataframe\">\n",
       "  <thead>\n",
       "    <tr style=\"text-align: right;\">\n",
       "      <th></th>\n",
       "      <th>Title-Code</th>\n",
       "      <th>Title Name</th>\n",
       "      <th>Hindi Title</th>\n",
       "      <th>Register Serial No</th>\n",
       "      <th>Regn No.</th>\n",
       "      <th>Owner Name</th>\n",
       "      <th>State</th>\n",
       "      <th>Publication City/District</th>\n",
       "      <th>Periodity</th>\n",
       "    </tr>\n",
       "  </thead>\n",
       "  <tbody>\n",
       "    <tr>\n",
       "      <th>14168</th>\n",
       "      <td>ANDBIL00003</td>\n",
       "      <td>DWEEPON KI AWAZ</td>\n",
       "      <td>द्वीपों की  आवाज़</td>\n",
       "      <td>40922.0</td>\n",
       "      <td>40922/ 87</td>\n",
       "      <td>GOPAL</td>\n",
       "      <td>AND</td>\n",
       "      <td>SOUTH ANDAMAN</td>\n",
       "      <td>M</td>\n",
       "    </tr>\n",
       "    <tr>\n",
       "      <th>10301</th>\n",
       "      <td>ANDBIL00046</td>\n",
       "      <td>THE MINI INDIA</td>\n",
       "      <td>NaN</td>\n",
       "      <td>138895.0</td>\n",
       "      <td>ANDBIL/2015/66340</td>\n",
       "      <td>K. YADAGIRI RAO</td>\n",
       "      <td>AND</td>\n",
       "      <td>PORT BLAIR</td>\n",
       "      <td>W</td>\n",
       "    </tr>\n",
       "    <tr>\n",
       "      <th>8445</th>\n",
       "      <td>ANDENG00010</td>\n",
       "      <td>ANDAMAN TODAY</td>\n",
       "      <td>अंडमान टुडे</td>\n",
       "      <td>40891.0</td>\n",
       "      <td>40891/ 88</td>\n",
       "      <td>T.THANGA SWAMY</td>\n",
       "      <td>AND</td>\n",
       "      <td>SOUTH ANDAMAN/ PORT BLAIR</td>\n",
       "      <td>F</td>\n",
       "    </tr>\n",
       "    <tr>\n",
       "      <th>231</th>\n",
       "      <td>ANDENG00029</td>\n",
       "      <td>THE PORT BLAIR TIMES</td>\n",
       "      <td>द पोर्ट  ब्लेयर  टाइम्स</td>\n",
       "      <td>63762.0</td>\n",
       "      <td>63762/ 96</td>\n",
       "      <td>DR P A MATHEWS</td>\n",
       "      <td>AND</td>\n",
       "      <td>PORT BLAIR</td>\n",
       "      <td>W</td>\n",
       "    </tr>\n",
       "    <tr>\n",
       "      <th>232</th>\n",
       "      <td>ANDENG00033</td>\n",
       "      <td>THE DAWN TIMES</td>\n",
       "      <td>द डॉन टाइम्स</td>\n",
       "      <td>64487.0</td>\n",
       "      <td>64487/ 96</td>\n",
       "      <td>P. GANESHAN</td>\n",
       "      <td>AND</td>\n",
       "      <td>SOUTH ANDAMAN/ PORT BLAIR</td>\n",
       "      <td>D</td>\n",
       "    </tr>\n",
       "    <tr>\n",
       "      <th>...</th>\n",
       "      <td>...</td>\n",
       "      <td>...</td>\n",
       "      <td>...</td>\n",
       "      <td>...</td>\n",
       "      <td>...</td>\n",
       "      <td>...</td>\n",
       "      <td>...</td>\n",
       "      <td>...</td>\n",
       "      <td>...</td>\n",
       "    </tr>\n",
       "    <tr>\n",
       "      <th>10279</th>\n",
       "      <td>WBURD00247</td>\n",
       "      <td>SPORTS TODAY</td>\n",
       "      <td>NaN</td>\n",
       "      <td>24520.0</td>\n",
       "      <td>24520/ 72</td>\n",
       "      <td>ABDUL GHANI</td>\n",
       "      <td>WB</td>\n",
       "      <td>KOLKATA</td>\n",
       "      <td>M</td>\n",
       "    </tr>\n",
       "    <tr>\n",
       "      <th>10289</th>\n",
       "      <td>WBURD00358</td>\n",
       "      <td>SPORTS TODAY</td>\n",
       "      <td>NaN</td>\n",
       "      <td>27077.0</td>\n",
       "      <td>27077/ 74</td>\n",
       "      <td>ARSHAD ALAM</td>\n",
       "      <td>WB</td>\n",
       "      <td>KOLKATA</td>\n",
       "      <td>W</td>\n",
       "    </tr>\n",
       "    <tr>\n",
       "      <th>13959</th>\n",
       "      <td>WBURD00359</td>\n",
       "      <td>SPORTS INDIA</td>\n",
       "      <td>NaN</td>\n",
       "      <td>27169.0</td>\n",
       "      <td>27169/ 75</td>\n",
       "      <td>MD. HASAN</td>\n",
       "      <td>WB</td>\n",
       "      <td>KOLKATA</td>\n",
       "      <td>F</td>\n",
       "    </tr>\n",
       "    <tr>\n",
       "      <th>8424</th>\n",
       "      <td>WBURD00530</td>\n",
       "      <td>ISLAMIC TIMES</td>\n",
       "      <td>NaN</td>\n",
       "      <td>37398.0</td>\n",
       "      <td>37398/ 81</td>\n",
       "      <td>MIRASGHAR ALI</td>\n",
       "      <td>WB</td>\n",
       "      <td>KOLKATA</td>\n",
       "      <td>W</td>\n",
       "    </tr>\n",
       "    <tr>\n",
       "      <th>14104</th>\n",
       "      <td>WBURD00546</td>\n",
       "      <td>SALUTE INDIA</td>\n",
       "      <td>NaN</td>\n",
       "      <td>NaN</td>\n",
       "      <td>NaN</td>\n",
       "      <td>SARDAR KUMAR ARYAN DHAR MOHAPATRA</td>\n",
       "      <td>WB</td>\n",
       "      <td>SOUTH 24 PARGANAS</td>\n",
       "      <td>D</td>\n",
       "    </tr>\n",
       "  </tbody>\n",
       "</table>\n",
       "<p>15085 rows × 9 columns</p>\n",
       "</div>"
      ],
      "text/plain": [
       "        Title-Code            Title Name              Hindi Title  \\\n",
       "14168  ANDBIL00003       DWEEPON KI AWAZ         द्वीपों की  आवाज़   \n",
       "10301  ANDBIL00046        THE MINI INDIA                      NaN   \n",
       "8445   ANDENG00010         ANDAMAN TODAY              अंडमान टुडे   \n",
       "231    ANDENG00029  THE PORT BLAIR TIMES  द पोर्ट  ब्लेयर  टाइम्स   \n",
       "232    ANDENG00033        THE DAWN TIMES             द डॉन टाइम्स   \n",
       "...            ...                   ...                      ...   \n",
       "10279   WBURD00247          SPORTS TODAY                      NaN   \n",
       "10289   WBURD00358          SPORTS TODAY                      NaN   \n",
       "13959   WBURD00359          SPORTS INDIA                      NaN   \n",
       "8424    WBURD00530         ISLAMIC TIMES                      NaN   \n",
       "14104   WBURD00546          SALUTE INDIA                      NaN   \n",
       "\n",
       "       Register Serial No           Regn No.  \\\n",
       "14168             40922.0          40922/ 87   \n",
       "10301            138895.0  ANDBIL/2015/66340   \n",
       "8445              40891.0          40891/ 88   \n",
       "231               63762.0          63762/ 96   \n",
       "232               64487.0          64487/ 96   \n",
       "...                   ...                ...   \n",
       "10279             24520.0          24520/ 72   \n",
       "10289             27077.0          27077/ 74   \n",
       "13959             27169.0          27169/ 75   \n",
       "8424              37398.0          37398/ 81   \n",
       "14104                 NaN                NaN   \n",
       "\n",
       "                              Owner Name State  Publication City/District  \\\n",
       "14168                              GOPAL   AND              SOUTH ANDAMAN   \n",
       "10301                    K. YADAGIRI RAO   AND                 PORT BLAIR   \n",
       "8445                      T.THANGA SWAMY   AND  SOUTH ANDAMAN/ PORT BLAIR   \n",
       "231                       DR P A MATHEWS   AND                 PORT BLAIR   \n",
       "232                          P. GANESHAN   AND  SOUTH ANDAMAN/ PORT BLAIR   \n",
       "...                                  ...   ...                        ...   \n",
       "10279                        ABDUL GHANI    WB                    KOLKATA   \n",
       "10289                        ARSHAD ALAM    WB                    KOLKATA   \n",
       "13959                          MD. HASAN    WB                    KOLKATA   \n",
       "8424                       MIRASGHAR ALI    WB                    KOLKATA   \n",
       "14104  SARDAR KUMAR ARYAN DHAR MOHAPATRA    WB          SOUTH 24 PARGANAS   \n",
       "\n",
       "      Periodity  \n",
       "14168         M  \n",
       "10301         W  \n",
       "8445          F  \n",
       "231           W  \n",
       "232           D  \n",
       "...         ...  \n",
       "10279         M  \n",
       "10289         W  \n",
       "13959         F  \n",
       "8424          W  \n",
       "14104         D  \n",
       "\n",
       "[15085 rows x 9 columns]"
      ]
     },
     "execution_count": 5,
     "metadata": {},
     "output_type": "execute_result"
    }
   ],
   "source": [
    "df.sort_values(by='Title-Code')"
   ]
  },
  {
   "cell_type": "code",
   "execution_count": 14,
   "metadata": {},
   "outputs": [
    {
     "data": {
      "text/html": [
       "<div>\n",
       "<style scoped>\n",
       "    .dataframe tbody tr th:only-of-type {\n",
       "        vertical-align: middle;\n",
       "    }\n",
       "\n",
       "    .dataframe tbody tr th {\n",
       "        vertical-align: top;\n",
       "    }\n",
       "\n",
       "    .dataframe thead th {\n",
       "        text-align: right;\n",
       "    }\n",
       "</style>\n",
       "<table border=\"1\" class=\"dataframe\">\n",
       "  <thead>\n",
       "    <tr style=\"text-align: right;\">\n",
       "      <th></th>\n",
       "      <th>Title-Code</th>\n",
       "      <th>Title Name</th>\n",
       "      <th>Hindi Title</th>\n",
       "      <th>Register Serial No</th>\n",
       "      <th>Regn No.</th>\n",
       "      <th>Owner Name</th>\n",
       "      <th>State</th>\n",
       "      <th>Publication City/District</th>\n",
       "      <th>Periodity</th>\n",
       "    </tr>\n",
       "  </thead>\n",
       "  <tbody>\n",
       "    <tr>\n",
       "      <th>8444</th>\n",
       "      <td>ANDENG00151</td>\n",
       "      <td>TODAY TIMES</td>\n",
       "      <td>टुडे टाइम्स</td>\n",
       "      <td>125860.0</td>\n",
       "      <td>ANDENG/2013/53305</td>\n",
       "      <td>PRADEEP KUMAR</td>\n",
       "      <td>AND</td>\n",
       "      <td>PORT BLAIR</td>\n",
       "      <td>D</td>\n",
       "    </tr>\n",
       "    <tr>\n",
       "      <th>10324</th>\n",
       "      <td>APENG02277</td>\n",
       "      <td>THE TIMES OF INDIA</td>\n",
       "      <td>द टाइम्स ऑफ इण्डिया</td>\n",
       "      <td>75685.0</td>\n",
       "      <td>TELENG/2000/03128</td>\n",
       "      <td>BENNETT, COLEMAN &amp; CO.LTD</td>\n",
       "      <td>AP</td>\n",
       "      <td>HYDERABAD</td>\n",
       "      <td>D</td>\n",
       "    </tr>\n",
       "    <tr>\n",
       "      <th>10343</th>\n",
       "      <td>APENG02819</td>\n",
       "      <td>INDIA GULF TIMES</td>\n",
       "      <td>इण्‍डि‍या गल्‍फ टाईम्‍स</td>\n",
       "      <td>98699.0</td>\n",
       "      <td>APENG/2008/26142</td>\n",
       "      <td>ZEENATH SAJIDA</td>\n",
       "      <td>AP</td>\n",
       "      <td>HYDERABAD</td>\n",
       "      <td>W</td>\n",
       "    </tr>\n",
       "    <tr>\n",
       "      <th>10383</th>\n",
       "      <td>APENG03371</td>\n",
       "      <td>VIZAG TIMES OF INDIA</td>\n",
       "      <td>विज़ाग टाइम्स ऑफ़ इंडिया</td>\n",
       "      <td>121780.0</td>\n",
       "      <td>ENG/2012/49225</td>\n",
       "      <td>BENNETT, COLEMAN &amp; CO.LTD</td>\n",
       "      <td>AP</td>\n",
       "      <td>VISAKHAPATNAM</td>\n",
       "      <td>D</td>\n",
       "    </tr>\n",
       "    <tr>\n",
       "      <th>10386</th>\n",
       "      <td>APENG03408</td>\n",
       "      <td>THE TIMES OF INDIA</td>\n",
       "      <td>द टाइम्स ऑफ़ इंडिया</td>\n",
       "      <td>120864.0</td>\n",
       "      <td>ENG/2012/48308</td>\n",
       "      <td>BENNETT, COLEMAN &amp; CO.LTD</td>\n",
       "      <td>AP</td>\n",
       "      <td>VISAKHAPATNAM</td>\n",
       "      <td>D</td>\n",
       "    </tr>\n",
       "    <tr>\n",
       "      <th>...</th>\n",
       "      <td>...</td>\n",
       "      <td>...</td>\n",
       "      <td>...</td>\n",
       "      <td>...</td>\n",
       "      <td>...</td>\n",
       "      <td>...</td>\n",
       "      <td>...</td>\n",
       "      <td>...</td>\n",
       "      <td>...</td>\n",
       "    </tr>\n",
       "    <tr>\n",
       "      <th>14102</th>\n",
       "      <td>WBBEN14185</td>\n",
       "      <td>THE GREAT INDIA TIMES</td>\n",
       "      <td>NaN</td>\n",
       "      <td>113445.0</td>\n",
       "      <td>WBBEN/2011/40888</td>\n",
       "      <td>SUSANTA SARKAR</td>\n",
       "      <td>WB</td>\n",
       "      <td>NORTH TWENTY FOUR PARGANAS</td>\n",
       "      <td>W</td>\n",
       "    </tr>\n",
       "    <tr>\n",
       "      <th>14107</th>\n",
       "      <td>WBBEN16007</td>\n",
       "      <td>INDIA BENEFICIARY TIMES</td>\n",
       "      <td>NaN</td>\n",
       "      <td>NaN</td>\n",
       "      <td>NaN</td>\n",
       "      <td>NEW LIFE BENEFICIAL &amp; CHARITABLE TRUST</td>\n",
       "      <td>WB</td>\n",
       "      <td>SOUTH 24 PARGANAS</td>\n",
       "      <td>M</td>\n",
       "    </tr>\n",
       "    <tr>\n",
       "      <th>13952</th>\n",
       "      <td>WBENG03443</td>\n",
       "      <td>THE TIMES OF INDIA</td>\n",
       "      <td>द टाइम्स ऑफ़ इंडिया</td>\n",
       "      <td>73619.0</td>\n",
       "      <td>WBENG/1999/01062</td>\n",
       "      <td>BENNETT, COLEMAN &amp; CO.LTD</td>\n",
       "      <td>WB</td>\n",
       "      <td>KOLKATA</td>\n",
       "      <td>D</td>\n",
       "    </tr>\n",
       "    <tr>\n",
       "      <th>14088</th>\n",
       "      <td>WBENG03444</td>\n",
       "      <td>THE SUNDAY TIMES OF INDIA</td>\n",
       "      <td>द संडे टाइम्स ऑफ़ इंडिया</td>\n",
       "      <td>73514.0</td>\n",
       "      <td>WBENG/1999/00957</td>\n",
       "      <td>BENNETT, COLEMAN &amp; CO.LTD</td>\n",
       "      <td>WB</td>\n",
       "      <td>KOLKATA</td>\n",
       "      <td>W</td>\n",
       "    </tr>\n",
       "    <tr>\n",
       "      <th>13948</th>\n",
       "      <td>WBENG03572</td>\n",
       "      <td>CALCUTTA TIMES OF INDIA</td>\n",
       "      <td>कलकत्ता टाइम्स ऑफ़ इंडिया</td>\n",
       "      <td>79120.0</td>\n",
       "      <td>WBENG/2002/06563</td>\n",
       "      <td>BENNETT, COLEMAN &amp; CO.LTD</td>\n",
       "      <td>WB</td>\n",
       "      <td>KOLKATA</td>\n",
       "      <td>D</td>\n",
       "    </tr>\n",
       "  </tbody>\n",
       "</table>\n",
       "<p>270 rows × 9 columns</p>\n",
       "</div>"
      ],
      "text/plain": [
       "        Title-Code                 Title Name               Hindi Title  \\\n",
       "8444   ANDENG00151                TODAY TIMES               टुडे टाइम्स   \n",
       "10324   APENG02277         THE TIMES OF INDIA       द टाइम्स ऑफ इण्डिया   \n",
       "10343   APENG02819           INDIA GULF TIMES   इण्‍डि‍या गल्‍फ टाईम्‍स   \n",
       "10383   APENG03371       VIZAG TIMES OF INDIA    विज़ाग टाइम्स ऑफ़ इंडिया   \n",
       "10386   APENG03408         THE TIMES OF INDIA        द टाइम्स ऑफ़ इंडिया   \n",
       "...            ...                        ...                       ...   \n",
       "14102   WBBEN14185      THE GREAT INDIA TIMES                       NaN   \n",
       "14107   WBBEN16007    INDIA BENEFICIARY TIMES                       NaN   \n",
       "13952   WBENG03443         THE TIMES OF INDIA        द टाइम्स ऑफ़ इंडिया   \n",
       "14088   WBENG03444  THE SUNDAY TIMES OF INDIA   द संडे टाइम्स ऑफ़ इंडिया   \n",
       "13948   WBENG03572    CALCUTTA TIMES OF INDIA  कलकत्ता टाइम्स ऑफ़ इंडिया   \n",
       "\n",
       "       Register Serial No           Regn No.  \\\n",
       "8444             125860.0  ANDENG/2013/53305   \n",
       "10324             75685.0  TELENG/2000/03128   \n",
       "10343             98699.0   APENG/2008/26142   \n",
       "10383            121780.0     ENG/2012/49225   \n",
       "10386            120864.0     ENG/2012/48308   \n",
       "...                   ...                ...   \n",
       "14102            113445.0   WBBEN/2011/40888   \n",
       "14107                 NaN                NaN   \n",
       "13952             73619.0   WBENG/1999/01062   \n",
       "14088             73514.0   WBENG/1999/00957   \n",
       "13948             79120.0   WBENG/2002/06563   \n",
       "\n",
       "                                   Owner Name State  \\\n",
       "8444                            PRADEEP KUMAR   AND   \n",
       "10324               BENNETT, COLEMAN & CO.LTD    AP   \n",
       "10343                          ZEENATH SAJIDA    AP   \n",
       "10383               BENNETT, COLEMAN & CO.LTD    AP   \n",
       "10386               BENNETT, COLEMAN & CO.LTD    AP   \n",
       "...                                       ...   ...   \n",
       "14102                          SUSANTA SARKAR    WB   \n",
       "14107  NEW LIFE BENEFICIAL & CHARITABLE TRUST    WB   \n",
       "13952               BENNETT, COLEMAN & CO.LTD    WB   \n",
       "14088               BENNETT, COLEMAN & CO.LTD    WB   \n",
       "13948               BENNETT, COLEMAN & CO.LTD    WB   \n",
       "\n",
       "        Publication City/District Periodity  \n",
       "8444                   PORT BLAIR         D  \n",
       "10324                   HYDERABAD         D  \n",
       "10343                   HYDERABAD         W  \n",
       "10383               VISAKHAPATNAM         D  \n",
       "10386               VISAKHAPATNAM         D  \n",
       "...                           ...       ...  \n",
       "14102  NORTH TWENTY FOUR PARGANAS         W  \n",
       "14107           SOUTH 24 PARGANAS         M  \n",
       "13952                     KOLKATA         D  \n",
       "14088                     KOLKATA         W  \n",
       "13948                     KOLKATA         D  \n",
       "\n",
       "[270 rows x 9 columns]"
      ]
     },
     "execution_count": 14,
     "metadata": {},
     "output_type": "execute_result"
    }
   ],
   "source": [
    "df[df.duplicated(subset=['Title-Code'])].sort_values(by='Title-Code')"
   ]
  },
  {
   "cell_type": "code",
   "execution_count": 53,
   "metadata": {},
   "outputs": [
    {
     "data": {
      "text/html": [
       "<div>\n",
       "<style scoped>\n",
       "    .dataframe tbody tr th:only-of-type {\n",
       "        vertical-align: middle;\n",
       "    }\n",
       "\n",
       "    .dataframe tbody tr th {\n",
       "        vertical-align: top;\n",
       "    }\n",
       "\n",
       "    .dataframe thead th {\n",
       "        text-align: right;\n",
       "    }\n",
       "</style>\n",
       "<table border=\"1\" class=\"dataframe\">\n",
       "  <thead>\n",
       "    <tr style=\"text-align: right;\">\n",
       "      <th></th>\n",
       "      <th>Title-Code</th>\n",
       "      <th>Title Name</th>\n",
       "      <th>Hindi Title</th>\n",
       "      <th>Register Serial No</th>\n",
       "      <th>Regn No.</th>\n",
       "      <th>Owner Name</th>\n",
       "      <th>State</th>\n",
       "      <th>Publication City/District</th>\n",
       "      <th>Periodity</th>\n",
       "    </tr>\n",
       "  </thead>\n",
       "  <tbody>\n",
       "    <tr>\n",
       "      <th>8444</th>\n",
       "      <td>ANDENG00151</td>\n",
       "      <td>TODAY TIMES</td>\n",
       "      <td>टुडे टाइम्स</td>\n",
       "      <td>125860.0</td>\n",
       "      <td>ANDENG/2013/53305</td>\n",
       "      <td>PRADEEP KUMAR</td>\n",
       "      <td>AND</td>\n",
       "      <td>PORT BLAIR</td>\n",
       "      <td>D</td>\n",
       "    </tr>\n",
       "    <tr>\n",
       "      <th>228</th>\n",
       "      <td>ANDENG00151</td>\n",
       "      <td>TODAY TIMES</td>\n",
       "      <td>टुडे टाइम्स</td>\n",
       "      <td>125860.0</td>\n",
       "      <td>ANDENG/2013/53305</td>\n",
       "      <td>PRADEEP KUMAR</td>\n",
       "      <td>AND</td>\n",
       "      <td>PORT BLAIR</td>\n",
       "      <td>D</td>\n",
       "    </tr>\n",
       "    <tr>\n",
       "      <th>10324</th>\n",
       "      <td>APENG02277</td>\n",
       "      <td>THE TIMES OF INDIA</td>\n",
       "      <td>द टाइम्स ऑफ इण्डिया</td>\n",
       "      <td>75685.0</td>\n",
       "      <td>TELENG/2000/03128</td>\n",
       "      <td>BENNETT, COLEMAN &amp; CO.LTD</td>\n",
       "      <td>AP</td>\n",
       "      <td>HYDERABAD</td>\n",
       "      <td>D</td>\n",
       "    </tr>\n",
       "    <tr>\n",
       "      <th>284</th>\n",
       "      <td>APENG02277</td>\n",
       "      <td>THE TIMES OF INDIA</td>\n",
       "      <td>द टाइम्स ऑफ  इण्डिया</td>\n",
       "      <td>75685.0</td>\n",
       "      <td>TELENG/2000/03128</td>\n",
       "      <td>BENNETT, COLEMAN &amp; CO.LTD</td>\n",
       "      <td>AP</td>\n",
       "      <td>HYDERABAD</td>\n",
       "      <td>D</td>\n",
       "    </tr>\n",
       "    <tr>\n",
       "      <th>10343</th>\n",
       "      <td>APENG02819</td>\n",
       "      <td>INDIA GULF TIMES</td>\n",
       "      <td>इण्‍डि‍या गल्‍फ टाईम्‍स</td>\n",
       "      <td>98699.0</td>\n",
       "      <td>APENG/2008/26142</td>\n",
       "      <td>ZEENATH SAJIDA</td>\n",
       "      <td>AP</td>\n",
       "      <td>HYDERABAD</td>\n",
       "      <td>W</td>\n",
       "    </tr>\n",
       "    <tr>\n",
       "      <th>...</th>\n",
       "      <td>...</td>\n",
       "      <td>...</td>\n",
       "      <td>...</td>\n",
       "      <td>...</td>\n",
       "      <td>...</td>\n",
       "      <td>...</td>\n",
       "      <td>...</td>\n",
       "      <td>...</td>\n",
       "      <td>...</td>\n",
       "    </tr>\n",
       "    <tr>\n",
       "      <th>13952</th>\n",
       "      <td>WBENG03443</td>\n",
       "      <td>THE TIMES OF INDIA</td>\n",
       "      <td>द टाइम्स ऑफ़ इंडिया</td>\n",
       "      <td>73619.0</td>\n",
       "      <td>WBENG/1999/01062</td>\n",
       "      <td>BENNETT, COLEMAN &amp; CO.LTD</td>\n",
       "      <td>WB</td>\n",
       "      <td>KOLKATA</td>\n",
       "      <td>D</td>\n",
       "    </tr>\n",
       "    <tr>\n",
       "      <th>14088</th>\n",
       "      <td>WBENG03444</td>\n",
       "      <td>THE SUNDAY TIMES OF INDIA</td>\n",
       "      <td>द संडे टाइम्स ऑफ़ इंडिया</td>\n",
       "      <td>73514.0</td>\n",
       "      <td>WBENG/1999/00957</td>\n",
       "      <td>BENNETT, COLEMAN &amp; CO.LTD</td>\n",
       "      <td>WB</td>\n",
       "      <td>KOLKATA</td>\n",
       "      <td>W</td>\n",
       "    </tr>\n",
       "    <tr>\n",
       "      <th>8413</th>\n",
       "      <td>WBENG03444</td>\n",
       "      <td>THE SUNDAY TIMES OF INDIA</td>\n",
       "      <td>द संडे  टाइम्स ऑफ़  इंडिया</td>\n",
       "      <td>73514.0</td>\n",
       "      <td>WBENG/1999/00957</td>\n",
       "      <td>BENNETT, COLEMAN &amp; CO.LTD</td>\n",
       "      <td>WB</td>\n",
       "      <td>KOLKATA</td>\n",
       "      <td>W</td>\n",
       "    </tr>\n",
       "    <tr>\n",
       "      <th>8374</th>\n",
       "      <td>WBENG03572</td>\n",
       "      <td>CALCUTTA TIMES OF INDIA</td>\n",
       "      <td>कलकत्ता  टाइम्स ऑफ़  इंडिया</td>\n",
       "      <td>79120.0</td>\n",
       "      <td>WBENG/2002/06563</td>\n",
       "      <td>BENNETT, COLEMAN &amp; CO.LTD</td>\n",
       "      <td>WB</td>\n",
       "      <td>KOLKATA</td>\n",
       "      <td>D</td>\n",
       "    </tr>\n",
       "    <tr>\n",
       "      <th>13948</th>\n",
       "      <td>WBENG03572</td>\n",
       "      <td>CALCUTTA TIMES OF INDIA</td>\n",
       "      <td>कलकत्ता टाइम्स ऑफ़ इंडिया</td>\n",
       "      <td>79120.0</td>\n",
       "      <td>WBENG/2002/06563</td>\n",
       "      <td>BENNETT, COLEMAN &amp; CO.LTD</td>\n",
       "      <td>WB</td>\n",
       "      <td>KOLKATA</td>\n",
       "      <td>D</td>\n",
       "    </tr>\n",
       "  </tbody>\n",
       "</table>\n",
       "<p>540 rows × 9 columns</p>\n",
       "</div>"
      ],
      "text/plain": [
       "        Title-Code                 Title Name                 Hindi Title  \\\n",
       "8444   ANDENG00151                TODAY TIMES                 टुडे टाइम्स   \n",
       "228    ANDENG00151                TODAY TIMES                 टुडे टाइम्स   \n",
       "10324   APENG02277         THE TIMES OF INDIA         द टाइम्स ऑफ इण्डिया   \n",
       "284     APENG02277         THE TIMES OF INDIA        द टाइम्स ऑफ  इण्डिया   \n",
       "10343   APENG02819           INDIA GULF TIMES     इण्‍डि‍या गल्‍फ टाईम्‍स   \n",
       "...            ...                        ...                         ...   \n",
       "13952   WBENG03443         THE TIMES OF INDIA          द टाइम्स ऑफ़ इंडिया   \n",
       "14088   WBENG03444  THE SUNDAY TIMES OF INDIA     द संडे टाइम्स ऑफ़ इंडिया   \n",
       "8413    WBENG03444  THE SUNDAY TIMES OF INDIA   द संडे  टाइम्स ऑफ़  इंडिया   \n",
       "8374    WBENG03572    CALCUTTA TIMES OF INDIA  कलकत्ता  टाइम्स ऑफ़  इंडिया   \n",
       "13948   WBENG03572    CALCUTTA TIMES OF INDIA    कलकत्ता टाइम्स ऑफ़ इंडिया   \n",
       "\n",
       "       Register Serial No           Regn No.                 Owner Name State  \\\n",
       "8444             125860.0  ANDENG/2013/53305              PRADEEP KUMAR   AND   \n",
       "228              125860.0  ANDENG/2013/53305              PRADEEP KUMAR   AND   \n",
       "10324             75685.0  TELENG/2000/03128  BENNETT, COLEMAN & CO.LTD    AP   \n",
       "284               75685.0  TELENG/2000/03128  BENNETT, COLEMAN & CO.LTD    AP   \n",
       "10343             98699.0   APENG/2008/26142             ZEENATH SAJIDA    AP   \n",
       "...                   ...                ...                        ...   ...   \n",
       "13952             73619.0   WBENG/1999/01062  BENNETT, COLEMAN & CO.LTD    WB   \n",
       "14088             73514.0   WBENG/1999/00957  BENNETT, COLEMAN & CO.LTD    WB   \n",
       "8413              73514.0   WBENG/1999/00957  BENNETT, COLEMAN & CO.LTD    WB   \n",
       "8374              79120.0   WBENG/2002/06563  BENNETT, COLEMAN & CO.LTD    WB   \n",
       "13948             79120.0   WBENG/2002/06563  BENNETT, COLEMAN & CO.LTD    WB   \n",
       "\n",
       "      Publication City/District Periodity  \n",
       "8444                 PORT BLAIR         D  \n",
       "228                  PORT BLAIR         D  \n",
       "10324                 HYDERABAD         D  \n",
       "284                   HYDERABAD         D  \n",
       "10343                 HYDERABAD         W  \n",
       "...                         ...       ...  \n",
       "13952                   KOLKATA         D  \n",
       "14088                   KOLKATA         W  \n",
       "8413                    KOLKATA         W  \n",
       "8374                    KOLKATA         D  \n",
       "13948                   KOLKATA         D  \n",
       "\n",
       "[540 rows x 9 columns]"
      ]
     },
     "execution_count": 53,
     "metadata": {},
     "output_type": "execute_result"
    }
   ],
   "source": [
    "duplicates = df[df.duplicated(subset=['Title-Code'])].sort_values(by='Title-Code')\n",
    "result = df.loc[df['Title-Code'].isin(duplicates['Title-Code'])]\n",
    "result.sort_values(by='Title-Code')"
   ]
  },
  {
   "cell_type": "code",
   "execution_count": 24,
   "metadata": {},
   "outputs": [
    {
     "data": {
      "text/html": [
       "<div>\n",
       "<style scoped>\n",
       "    .dataframe tbody tr th:only-of-type {\n",
       "        vertical-align: middle;\n",
       "    }\n",
       "\n",
       "    .dataframe tbody tr th {\n",
       "        vertical-align: top;\n",
       "    }\n",
       "\n",
       "    .dataframe thead th {\n",
       "        text-align: right;\n",
       "    }\n",
       "</style>\n",
       "<table border=\"1\" class=\"dataframe\">\n",
       "  <thead>\n",
       "    <tr style=\"text-align: right;\">\n",
       "      <th></th>\n",
       "      <th>Title-Code</th>\n",
       "      <th>Title Name</th>\n",
       "      <th>Hindi Title</th>\n",
       "      <th>Register Serial No</th>\n",
       "      <th>Regn No.</th>\n",
       "      <th>Owner Name</th>\n",
       "      <th>State</th>\n",
       "      <th>Publication City/District</th>\n",
       "      <th>Periodity</th>\n",
       "    </tr>\n",
       "  </thead>\n",
       "  <tbody>\n",
       "    <tr>\n",
       "      <th>0</th>\n",
       "      <td>NOFHIN00556</td>\n",
       "      <td>JAN JAGRAN TIMES</td>\n",
       "      <td>NaN</td>\n",
       "      <td>62359.0</td>\n",
       "      <td>62359/ 94</td>\n",
       "      <td>NOT GIVEN</td>\n",
       "      <td>NaN</td>\n",
       "      <td>NaN</td>\n",
       "      <td>W</td>\n",
       "    </tr>\n",
       "    <tr>\n",
       "      <th>1</th>\n",
       "      <td>APENG03114</td>\n",
       "      <td>JAGRAN CITY PLUS</td>\n",
       "      <td>NaN</td>\n",
       "      <td>110733.0</td>\n",
       "      <td>APENG/2010/38176</td>\n",
       "      <td>JAGRAN PRAKASHAN LTD</td>\n",
       "      <td>AP</td>\n",
       "      <td>HYDERABAD</td>\n",
       "      <td>W</td>\n",
       "    </tr>\n",
       "    <tr>\n",
       "      <th>2</th>\n",
       "      <td>BIHHIN05227</td>\n",
       "      <td>SAMPURNA JAGRAN</td>\n",
       "      <td>NaN</td>\n",
       "      <td>125436.0</td>\n",
       "      <td>BIHHIN/2013/52881</td>\n",
       "      <td>NUTAN VERMA</td>\n",
       "      <td>BIH</td>\n",
       "      <td>BETTIAH</td>\n",
       "      <td>D</td>\n",
       "    </tr>\n",
       "    <tr>\n",
       "      <th>3</th>\n",
       "      <td>BIHHIN05120</td>\n",
       "      <td>DAINIK JAGRAN</td>\n",
       "      <td>NaN</td>\n",
       "      <td>119746.0</td>\n",
       "      <td>BIHHIN/2012/47189</td>\n",
       "      <td>JAGRAN PRAKASHAN LTD</td>\n",
       "      <td>BIH</td>\n",
       "      <td>BHAGALPUR</td>\n",
       "      <td>D</td>\n",
       "    </tr>\n",
       "    <tr>\n",
       "      <th>4</th>\n",
       "      <td>BIHHIN02261</td>\n",
       "      <td>VISHWA JAGRAN</td>\n",
       "      <td>NaN</td>\n",
       "      <td>39498.0</td>\n",
       "      <td>39498/ 81</td>\n",
       "      <td>D. R. TYAGI</td>\n",
       "      <td>BIH</td>\n",
       "      <td>GAYA</td>\n",
       "      <td>W</td>\n",
       "    </tr>\n",
       "    <tr>\n",
       "      <th>...</th>\n",
       "      <td>...</td>\n",
       "      <td>...</td>\n",
       "      <td>...</td>\n",
       "      <td>...</td>\n",
       "      <td>...</td>\n",
       "      <td>...</td>\n",
       "      <td>...</td>\n",
       "      <td>...</td>\n",
       "      <td>...</td>\n",
       "    </tr>\n",
       "    <tr>\n",
       "      <th>15080</th>\n",
       "      <td>WBHIN01655</td>\n",
       "      <td>KAIWART AWAZ</td>\n",
       "      <td>कैवर्त आवाज़</td>\n",
       "      <td>37349.0</td>\n",
       "      <td>37349/ 81</td>\n",
       "      <td>PUSHOTTAM KUMAR</td>\n",
       "      <td>WB</td>\n",
       "      <td>KOLKATA</td>\n",
       "      <td>M</td>\n",
       "    </tr>\n",
       "    <tr>\n",
       "      <th>15081</th>\n",
       "      <td>WBBEN05776</td>\n",
       "      <td>SARBAHARAR AWAZ</td>\n",
       "      <td>सर्बहारार  आवाज़</td>\n",
       "      <td>34753.0</td>\n",
       "      <td>34753/ 79</td>\n",
       "      <td>BASANT SINGH</td>\n",
       "      <td>WB</td>\n",
       "      <td>KOLKATA</td>\n",
       "      <td>M</td>\n",
       "    </tr>\n",
       "    <tr>\n",
       "      <th>15082</th>\n",
       "      <td>WBBEN14913</td>\n",
       "      <td>SHRAMIKER AWAZ</td>\n",
       "      <td>श्रमिकेर  आवाज़</td>\n",
       "      <td>129436.0</td>\n",
       "      <td>WBBEN/2014/56881</td>\n",
       "      <td>MD. QAMRUZZAMAN QAMAR</td>\n",
       "      <td>WB</td>\n",
       "      <td>KOLKATA</td>\n",
       "      <td>M</td>\n",
       "    </tr>\n",
       "    <tr>\n",
       "      <th>15083</th>\n",
       "      <td>WBHIN01701</td>\n",
       "      <td>SOBAR AWAZ</td>\n",
       "      <td>NaN</td>\n",
       "      <td>NaN</td>\n",
       "      <td>UR</td>\n",
       "      <td>SHARDA SHAW</td>\n",
       "      <td>WB</td>\n",
       "      <td>SOUTH 24 PARGANAS</td>\n",
       "      <td>D</td>\n",
       "    </tr>\n",
       "    <tr>\n",
       "      <th>15084</th>\n",
       "      <td>WBHIN01693</td>\n",
       "      <td>AWAZ AAP TAK</td>\n",
       "      <td>NaN</td>\n",
       "      <td>158749.0</td>\n",
       "      <td>WBHIN/2023/86194</td>\n",
       "      <td>MD.ZAHIR</td>\n",
       "      <td>WB</td>\n",
       "      <td>SOUTH 24 PARGANAS</td>\n",
       "      <td>F</td>\n",
       "    </tr>\n",
       "  </tbody>\n",
       "</table>\n",
       "<p>14815 rows × 9 columns</p>\n",
       "</div>"
      ],
      "text/plain": [
       "        Title-Code        Title Name      Hindi Title  Register Serial No  \\\n",
       "0      NOFHIN00556  JAN JAGRAN TIMES              NaN             62359.0   \n",
       "1       APENG03114  JAGRAN CITY PLUS              NaN            110733.0   \n",
       "2      BIHHIN05227   SAMPURNA JAGRAN              NaN            125436.0   \n",
       "3      BIHHIN05120     DAINIK JAGRAN              NaN            119746.0   \n",
       "4      BIHHIN02261     VISHWA JAGRAN              NaN             39498.0   \n",
       "...            ...               ...              ...                 ...   \n",
       "15080   WBHIN01655      KAIWART AWAZ      कैवर्त आवाज़             37349.0   \n",
       "15081   WBBEN05776   SARBAHARAR AWAZ  सर्बहारार  आवाज़             34753.0   \n",
       "15082   WBBEN14913    SHRAMIKER AWAZ   श्रमिकेर  आवाज़            129436.0   \n",
       "15083   WBHIN01701        SOBAR AWAZ              NaN                 NaN   \n",
       "15084   WBHIN01693      AWAZ AAP TAK              NaN            158749.0   \n",
       "\n",
       "                Regn No.             Owner Name State  \\\n",
       "0              62359/ 94              NOT GIVEN   NaN   \n",
       "1       APENG/2010/38176   JAGRAN PRAKASHAN LTD    AP   \n",
       "2      BIHHIN/2013/52881            NUTAN VERMA   BIH   \n",
       "3      BIHHIN/2012/47189   JAGRAN PRAKASHAN LTD   BIH   \n",
       "4              39498/ 81            D. R. TYAGI   BIH   \n",
       "...                  ...                    ...   ...   \n",
       "15080          37349/ 81        PUSHOTTAM KUMAR    WB   \n",
       "15081          34753/ 79           BASANT SINGH    WB   \n",
       "15082   WBBEN/2014/56881  MD. QAMRUZZAMAN QAMAR    WB   \n",
       "15083                 UR            SHARDA SHAW    WB   \n",
       "15084   WBHIN/2023/86194               MD.ZAHIR    WB   \n",
       "\n",
       "      Publication City/District Periodity  \n",
       "0                           NaN         W  \n",
       "1                     HYDERABAD         W  \n",
       "2                       BETTIAH         D  \n",
       "3                     BHAGALPUR         D  \n",
       "4                          GAYA         W  \n",
       "...                         ...       ...  \n",
       "15080                   KOLKATA         M  \n",
       "15081                   KOLKATA         M  \n",
       "15082                   KOLKATA         M  \n",
       "15083         SOUTH 24 PARGANAS         D  \n",
       "15084         SOUTH 24 PARGANAS         F  \n",
       "\n",
       "[14815 rows x 9 columns]"
      ]
     },
     "execution_count": 24,
     "metadata": {},
     "output_type": "execute_result"
    }
   ],
   "source": [
    "clean_df"
   ]
  },
  {
   "cell_type": "code",
   "execution_count": 48,
   "metadata": {},
   "outputs": [
    {
     "data": {
      "text/plain": [
       "0        True\n",
       "1        True\n",
       "2        True\n",
       "3        True\n",
       "4        True\n",
       "         ... \n",
       "15080    True\n",
       "15081    True\n",
       "15082    True\n",
       "15083    True\n",
       "15084    True\n",
       "Name: Title-Code, Length: 15085, dtype: bool"
      ]
     },
     "execution_count": 48,
     "metadata": {},
     "output_type": "execute_result"
    }
   ],
   "source": [
    "df['Title-Code'].isin(clean_df['Title-Code'])"
   ]
  },
  {
   "cell_type": "code",
   "execution_count": null,
   "metadata": {},
   "outputs": [],
   "source": []
  },
  {
   "cell_type": "code",
   "execution_count": 30,
   "metadata": {},
   "outputs": [
    {
     "data": {
      "text/plain": [
       "0        True\n",
       "1        True\n",
       "2        True\n",
       "3        True\n",
       "4        True\n",
       "         ... \n",
       "15080    True\n",
       "15081    True\n",
       "15082    True\n",
       "15083    True\n",
       "15084    True\n",
       "Name: Title-Code, Length: 15085, dtype: bool"
      ]
     },
     "execution_count": 30,
     "metadata": {},
     "output_type": "execute_result"
    }
   ],
   "source": [
    "df['Title-Code'].isin((clean_df['Title-Code']))"
   ]
  },
  {
   "cell_type": "code",
   "execution_count": 21,
   "metadata": {},
   "outputs": [
    {
     "data": {
      "text/html": [
       "<div>\n",
       "<style scoped>\n",
       "    .dataframe tbody tr th:only-of-type {\n",
       "        vertical-align: middle;\n",
       "    }\n",
       "\n",
       "    .dataframe tbody tr th {\n",
       "        vertical-align: top;\n",
       "    }\n",
       "\n",
       "    .dataframe thead th {\n",
       "        text-align: right;\n",
       "    }\n",
       "</style>\n",
       "<table border=\"1\" class=\"dataframe\">\n",
       "  <thead>\n",
       "    <tr style=\"text-align: right;\">\n",
       "      <th></th>\n",
       "      <th>Title-Code</th>\n",
       "      <th>Title Name</th>\n",
       "      <th>Hindi Title</th>\n",
       "      <th>Register Serial No</th>\n",
       "      <th>Regn No.</th>\n",
       "      <th>Owner Name</th>\n",
       "      <th>State</th>\n",
       "      <th>Publication City/District</th>\n",
       "      <th>Periodity</th>\n",
       "    </tr>\n",
       "  </thead>\n",
       "  <tbody>\n",
       "  </tbody>\n",
       "</table>\n",
       "</div>"
      ],
      "text/plain": [
       "Empty DataFrame\n",
       "Columns: [Title-Code, Title Name, Hindi Title, Register Serial No, Regn No., Owner Name, State, Publication City/District, Periodity]\n",
       "Index: []"
      ]
     },
     "execution_count": 21,
     "metadata": {},
     "output_type": "execute_result"
    }
   ],
   "source": [
    "only_in_df"
   ]
  },
  {
   "cell_type": "code",
   "execution_count": 3,
   "metadata": {},
   "outputs": [
    {
     "name": "stderr",
     "output_type": "stream",
     "text": [
      "C:\\Users\\modip\\AppData\\Roaming\\Python\\Python310\\site-packages\\tqdm\\auto.py:21: TqdmWarning: IProgress not found. Please update jupyter and ipywidgets. See https://ipywidgets.readthedocs.io/en/stable/user_install.html\n",
      "  from .autonotebook import tqdm as notebook_tqdm\n"
     ]
    }
   ],
   "source": [
    "from metaphone import doublemetaphone\n",
    "from sentence_transformers import SentenceTransformer\n",
    "from tqdm import tqdm"
   ]
  },
  {
   "cell_type": "code",
   "execution_count": 4,
   "metadata": {},
   "outputs": [],
   "source": [
    "def soundex(name):\n",
    "    codes = {\n",
    "        \"BFPV\": \"1\", \"CGJKQSXZ\": \"2\", \"DT\": \"3\",\n",
    "        \"L\": \"4\", \"MN\": \"5\", \"R\": \"6\"\n",
    "    }\n",
    "\n",
    "    def get_code(letter):\n",
    "        for key in codes:\n",
    "            if letter in key:\n",
    "                return codes[key]\n",
    "        return \"\"\n",
    "\n",
    "    def encode_word(word):\n",
    "        first_letter = word[0].upper()\n",
    "        encoded = first_letter + ''.join(get_code(char.upper()) for char in word[1:])\n",
    "        result = [encoded[0]]\n",
    "        for i in range(1, len(encoded)):\n",
    "            if encoded[i] != encoded[i - 1]:\n",
    "                result.append(encoded[i])\n",
    "        result = ''.join(result).replace('0', '')\n",
    "        return (result[:4] + \"0000\")[:4]\n",
    "\n",
    "    # Process each word separately\n",
    "    words = name.split()\n",
    "    soundex_codes = [encode_word(word) for word in words]\n",
    "    return soundex_codes"
   ]
  },
  {
   "cell_type": "code",
   "execution_count": 5,
   "metadata": {},
   "outputs": [],
   "source": [
    "def nysiis(name):\n",
    "    name = name.upper()\n",
    "    name = name.replace('PH', 'F')\n",
    "    name = name.replace('MAC', 'MCC')\n",
    "    name = name.replace('KN', 'N')\n",
    "    name = name.replace('K', 'C')\n",
    "    name = name.replace('PF', 'F')\n",
    "    name = name.replace('SCH', 'SSS')\n",
    "\n",
    "    # Start of word replacements\n",
    "    if name.startswith('EV'):\n",
    "        name = 'AF' + name[2:]\n",
    "    if name.startswith('E'):\n",
    "        name = 'A' + name[1:]\n",
    "    \n",
    "    # End of word replacements\n",
    "    name = name.rstrip('S')\n",
    "    name = name.rstrip('A')\n",
    "\n",
    "    # Replace endings\n",
    "    if name.endswith('AY'):\n",
    "        name = name[:-2] + 'Y'\n",
    "    if name.endswith('A'):\n",
    "        name = name[:-1]\n",
    "\n",
    "    # Remove duplicate letters\n",
    "    prev_char = ''\n",
    "    result = []\n",
    "    for char in name:\n",
    "        if char != prev_char:\n",
    "            result.append(char)\n",
    "            prev_char = char\n",
    "\n",
    "    return ''.join(result)\n",
    "\n",
    "# Test the function\n",
    "# name = \"Sampson\"\n",
    "# encoded_name = nysiis(name)\n",
    "\n",
    "# print(f\"Original: {name}, NYSIIS: {encoded_name}\")\n"
   ]
  },
  {
   "cell_type": "code",
   "execution_count": 6,
   "metadata": {},
   "outputs": [
    {
     "name": "stderr",
     "output_type": "stream",
     "text": [
      "Processing records:   2%|▏         | 238/14815 [00:04<04:02, 60.15it/s]"
     ]
    },
    {
     "name": "stdout",
     "output_type": "stream",
     "text": [
      "Not There\n"
     ]
    },
    {
     "name": "stderr",
     "output_type": "stream",
     "text": [
      "Processing records:  21%|██        | 3118/14815 [00:52<03:08, 62.20it/s]"
     ]
    },
    {
     "name": "stdout",
     "output_type": "stream",
     "text": [
      "Not There\n"
     ]
    },
    {
     "name": "stderr",
     "output_type": "stream",
     "text": [
      "Processing records:  43%|████▎     | 6383/14815 [01:47<02:09, 65.35it/s]"
     ]
    },
    {
     "name": "stdout",
     "output_type": "stream",
     "text": [
      "Not There\n"
     ]
    },
    {
     "name": "stderr",
     "output_type": "stream",
     "text": [
      "Processing records:  44%|████▎     | 6461/14815 [01:49<02:10, 63.94it/s]"
     ]
    },
    {
     "name": "stdout",
     "output_type": "stream",
     "text": [
      "Not There\n"
     ]
    },
    {
     "name": "stderr",
     "output_type": "stream",
     "text": [
      "Processing records:  46%|████▌     | 6780/14815 [01:54<02:06, 63.48it/s]"
     ]
    },
    {
     "name": "stdout",
     "output_type": "stream",
     "text": [
      "Not There\n"
     ]
    },
    {
     "name": "stderr",
     "output_type": "stream",
     "text": [
      "Processing records:  48%|████▊     | 7111/14815 [02:00<02:23, 53.72it/s]"
     ]
    },
    {
     "name": "stdout",
     "output_type": "stream",
     "text": [
      "Not There\n"
     ]
    },
    {
     "name": "stderr",
     "output_type": "stream",
     "text": [
      "Processing records:  49%|████▉     | 7273/14815 [02:03<01:57, 64.24it/s]"
     ]
    },
    {
     "name": "stdout",
     "output_type": "stream",
     "text": [
      "Not There\n"
     ]
    },
    {
     "name": "stderr",
     "output_type": "stream",
     "text": [
      "Processing records:  51%|█████     | 7577/14815 [02:08<02:52, 42.03it/s]"
     ]
    },
    {
     "name": "stdout",
     "output_type": "stream",
     "text": [
      "Not There\n"
     ]
    },
    {
     "name": "stderr",
     "output_type": "stream",
     "text": [
      "Processing records:  57%|█████▋    | 8452/14815 [02:26<01:50, 57.83it/s]"
     ]
    },
    {
     "name": "stdout",
     "output_type": "stream",
     "text": [
      "Not There\n"
     ]
    },
    {
     "name": "stderr",
     "output_type": "stream",
     "text": [
      "Processing records:  58%|█████▊    | 8576/14815 [02:28<01:53, 55.07it/s]"
     ]
    },
    {
     "name": "stdout",
     "output_type": "stream",
     "text": [
      "Not There\n"
     ]
    },
    {
     "name": "stderr",
     "output_type": "stream",
     "text": [
      "Processing records:  58%|█████▊    | 8625/14815 [02:29<02:01, 51.01it/s]"
     ]
    },
    {
     "name": "stdout",
     "output_type": "stream",
     "text": [
      "Not There\n"
     ]
    },
    {
     "name": "stderr",
     "output_type": "stream",
     "text": [
      "Processing records:  59%|█████▉    | 8776/14815 [02:32<01:53, 53.43it/s]"
     ]
    },
    {
     "name": "stdout",
     "output_type": "stream",
     "text": [
      "Not There\n"
     ]
    },
    {
     "name": "stderr",
     "output_type": "stream",
     "text": [
      "Processing records:  60%|█████▉    | 8887/14815 [02:34<01:34, 62.83it/s]"
     ]
    },
    {
     "name": "stdout",
     "output_type": "stream",
     "text": [
      "Not There\n",
      "Not There\n"
     ]
    },
    {
     "name": "stderr",
     "output_type": "stream",
     "text": [
      "Processing records:  60%|██████    | 8943/14815 [02:35<01:38, 59.91it/s]"
     ]
    },
    {
     "name": "stdout",
     "output_type": "stream",
     "text": [
      "Not There\n",
      "Not There\n",
      "Not There\n",
      "Not There\n"
     ]
    },
    {
     "name": "stderr",
     "output_type": "stream",
     "text": [
      "Processing records:  61%|██████    | 9021/14815 [02:36<01:33, 62.11it/s]"
     ]
    },
    {
     "name": "stdout",
     "output_type": "stream",
     "text": [
      "Not There\n"
     ]
    },
    {
     "name": "stderr",
     "output_type": "stream",
     "text": [
      "Processing records:  64%|██████▍   | 9549/14815 [02:44<01:14, 70.34it/s]"
     ]
    },
    {
     "name": "stdout",
     "output_type": "stream",
     "text": [
      "Not There\n"
     ]
    },
    {
     "name": "stderr",
     "output_type": "stream",
     "text": [
      "Processing records:  69%|██████▉   | 10226/14815 [02:58<01:07, 67.60it/s]"
     ]
    },
    {
     "name": "stdout",
     "output_type": "stream",
     "text": [
      "Not There\n",
      "Not There\n"
     ]
    },
    {
     "name": "stderr",
     "output_type": "stream",
     "text": [
      "Processing records:  70%|██████▉   | 10317/14815 [02:59<01:11, 62.84it/s]"
     ]
    },
    {
     "name": "stdout",
     "output_type": "stream",
     "text": [
      "Not There\n",
      "Not There\n",
      "Not There\n"
     ]
    },
    {
     "name": "stderr",
     "output_type": "stream",
     "text": [
      "Processing records:  70%|██████▉   | 10330/14815 [03:00<01:17, 58.22it/s]"
     ]
    },
    {
     "name": "stdout",
     "output_type": "stream",
     "text": [
      "Not There\n"
     ]
    },
    {
     "name": "stderr",
     "output_type": "stream",
     "text": [
      "Processing records:  70%|██████▉   | 10350/14815 [03:00<01:24, 53.06it/s]"
     ]
    },
    {
     "name": "stdout",
     "output_type": "stream",
     "text": [
      "Not There\n"
     ]
    },
    {
     "name": "stderr",
     "output_type": "stream",
     "text": [
      "Processing records:  70%|███████   | 10394/14815 [03:01<01:05, 67.76it/s]"
     ]
    },
    {
     "name": "stdout",
     "output_type": "stream",
     "text": [
      "Not There\n",
      "Not There\n",
      "Not There\n",
      "Not There\n",
      "Not There\n",
      "Not There\n"
     ]
    },
    {
     "name": "stderr",
     "output_type": "stream",
     "text": [
      "Processing records:  70%|███████   | 10417/14815 [03:01<01:04, 68.55it/s]"
     ]
    },
    {
     "name": "stdout",
     "output_type": "stream",
     "text": [
      "Not There\n",
      "Not There\n",
      "Not There\n",
      "Not There\n",
      "Not There\n",
      "Not There\n",
      "Not There\n"
     ]
    },
    {
     "name": "stderr",
     "output_type": "stream",
     "text": [
      "Processing records:  71%|███████   | 10445/14815 [03:01<01:04, 67.94it/s]"
     ]
    },
    {
     "name": "stdout",
     "output_type": "stream",
     "text": [
      "Not There\n"
     ]
    },
    {
     "name": "stderr",
     "output_type": "stream",
     "text": [
      "Processing records:  71%|███████   | 10470/14815 [03:02<01:02, 69.66it/s]"
     ]
    },
    {
     "name": "stdout",
     "output_type": "stream",
     "text": [
      "Not There\n",
      "Not There\n",
      "Not There\n"
     ]
    },
    {
     "name": "stderr",
     "output_type": "stream",
     "text": [
      "Processing records:  71%|███████   | 10486/14815 [03:02<01:05, 66.14it/s]"
     ]
    },
    {
     "name": "stdout",
     "output_type": "stream",
     "text": [
      "Not There\n"
     ]
    },
    {
     "name": "stderr",
     "output_type": "stream",
     "text": [
      "Processing records:  71%|███████   | 10507/14815 [03:02<01:06, 64.91it/s]"
     ]
    },
    {
     "name": "stdout",
     "output_type": "stream",
     "text": [
      "Not There\n",
      "Not There\n",
      "Not There\n",
      "Not There\n"
     ]
    },
    {
     "name": "stderr",
     "output_type": "stream",
     "text": [
      "Processing records:  71%|███████   | 10530/14815 [03:03<01:02, 69.00it/s]"
     ]
    },
    {
     "name": "stdout",
     "output_type": "stream",
     "text": [
      "Not There\n",
      "Not There\n",
      "Not There\n"
     ]
    },
    {
     "name": "stderr",
     "output_type": "stream",
     "text": [
      "Processing records:  71%|███████▏  | 10581/14815 [03:04<01:03, 66.96it/s]"
     ]
    },
    {
     "name": "stdout",
     "output_type": "stream",
     "text": [
      "Not There\n",
      "Not There\n"
     ]
    },
    {
     "name": "stderr",
     "output_type": "stream",
     "text": [
      "Processing records:  72%|███████▏  | 10603/14815 [03:04<01:05, 64.42it/s]"
     ]
    },
    {
     "name": "stdout",
     "output_type": "stream",
     "text": [
      "Not There\n"
     ]
    },
    {
     "name": "stderr",
     "output_type": "stream",
     "text": [
      "Processing records:  72%|███████▏  | 10630/14815 [03:04<01:10, 59.28it/s]"
     ]
    },
    {
     "name": "stdout",
     "output_type": "stream",
     "text": [
      "Not There\n",
      "Not There\n",
      "Not There\n"
     ]
    },
    {
     "name": "stderr",
     "output_type": "stream",
     "text": [
      "Processing records:  72%|███████▏  | 10643/14815 [03:05<01:17, 53.97it/s]"
     ]
    },
    {
     "name": "stdout",
     "output_type": "stream",
     "text": [
      "Not There\n"
     ]
    },
    {
     "name": "stderr",
     "output_type": "stream",
     "text": [
      "Processing records:  72%|███████▏  | 10689/14815 [03:05<01:09, 59.12it/s]"
     ]
    },
    {
     "name": "stdout",
     "output_type": "stream",
     "text": [
      "Not There\n",
      "Not There\n",
      "Not There\n"
     ]
    },
    {
     "name": "stderr",
     "output_type": "stream",
     "text": [
      "Processing records:  72%|███████▏  | 10711/14815 [03:06<01:03, 64.76it/s]"
     ]
    },
    {
     "name": "stdout",
     "output_type": "stream",
     "text": [
      "Not There\n",
      "Not There\n"
     ]
    },
    {
     "name": "stderr",
     "output_type": "stream",
     "text": [
      "Processing records:  72%|███████▏  | 10740/14815 [03:06<01:05, 61.86it/s]"
     ]
    },
    {
     "name": "stdout",
     "output_type": "stream",
     "text": [
      "Not There\n",
      "Not There\n"
     ]
    },
    {
     "name": "stderr",
     "output_type": "stream",
     "text": [
      "Processing records:  73%|███████▎  | 10768/14815 [03:07<01:07, 59.60it/s]"
     ]
    },
    {
     "name": "stdout",
     "output_type": "stream",
     "text": [
      "Not There\n",
      "Not There\n"
     ]
    },
    {
     "name": "stderr",
     "output_type": "stream",
     "text": [
      "Processing records:  73%|███████▎  | 10801/14815 [03:07<01:04, 61.88it/s]"
     ]
    },
    {
     "name": "stdout",
     "output_type": "stream",
     "text": [
      "Not There\n"
     ]
    },
    {
     "name": "stderr",
     "output_type": "stream",
     "text": [
      "Processing records:  73%|███████▎  | 10815/14815 [03:08<01:04, 62.10it/s]"
     ]
    },
    {
     "name": "stdout",
     "output_type": "stream",
     "text": [
      "Not There\n"
     ]
    },
    {
     "name": "stderr",
     "output_type": "stream",
     "text": [
      "Processing records:  73%|███████▎  | 10878/14815 [03:09<01:09, 56.68it/s]"
     ]
    },
    {
     "name": "stdout",
     "output_type": "stream",
     "text": [
      "Not There\n"
     ]
    },
    {
     "name": "stderr",
     "output_type": "stream",
     "text": [
      "Processing records:  74%|███████▎  | 10910/14815 [03:09<01:09, 55.88it/s]"
     ]
    },
    {
     "name": "stdout",
     "output_type": "stream",
     "text": [
      "Not There\n"
     ]
    },
    {
     "name": "stderr",
     "output_type": "stream",
     "text": [
      "Processing records:  74%|███████▍  | 10934/14815 [03:10<01:15, 51.31it/s]"
     ]
    },
    {
     "name": "stdout",
     "output_type": "stream",
     "text": [
      "Not There\n"
     ]
    },
    {
     "name": "stderr",
     "output_type": "stream",
     "text": [
      "Processing records:  74%|███████▍  | 10946/14815 [03:10<01:13, 52.43it/s]"
     ]
    },
    {
     "name": "stdout",
     "output_type": "stream",
     "text": [
      "Not There\n"
     ]
    },
    {
     "name": "stderr",
     "output_type": "stream",
     "text": [
      "Processing records:  74%|███████▍  | 11017/14815 [03:11<01:03, 60.20it/s]"
     ]
    },
    {
     "name": "stdout",
     "output_type": "stream",
     "text": [
      "Not There\n",
      "Not There\n"
     ]
    },
    {
     "name": "stderr",
     "output_type": "stream",
     "text": [
      "Processing records:  75%|███████▍  | 11068/14815 [03:12<01:03, 58.89it/s]"
     ]
    },
    {
     "name": "stdout",
     "output_type": "stream",
     "text": [
      "Not There\n"
     ]
    },
    {
     "name": "stderr",
     "output_type": "stream",
     "text": [
      "Processing records:  75%|███████▍  | 11094/14815 [03:13<01:01, 60.20it/s]"
     ]
    },
    {
     "name": "stdout",
     "output_type": "stream",
     "text": [
      "Not There\n"
     ]
    },
    {
     "name": "stderr",
     "output_type": "stream",
     "text": [
      "Processing records:  75%|███████▍  | 11101/14815 [03:13<01:00, 61.53it/s]"
     ]
    },
    {
     "name": "stdout",
     "output_type": "stream",
     "text": [
      "Not There\n",
      "Not There\n"
     ]
    },
    {
     "name": "stderr",
     "output_type": "stream",
     "text": [
      "Processing records:  75%|███████▌  | 11137/14815 [03:13<00:56, 65.58it/s]"
     ]
    },
    {
     "name": "stdout",
     "output_type": "stream",
     "text": [
      "Not There\n",
      "Not There\n"
     ]
    },
    {
     "name": "stderr",
     "output_type": "stream",
     "text": [
      "Processing records:  76%|███████▌  | 11200/14815 [03:14<00:58, 62.05it/s]"
     ]
    },
    {
     "name": "stdout",
     "output_type": "stream",
     "text": [
      "Not There\n"
     ]
    },
    {
     "name": "stderr",
     "output_type": "stream",
     "text": [
      "Processing records:  76%|███████▌  | 11267/14815 [03:15<00:58, 60.66it/s]"
     ]
    },
    {
     "name": "stdout",
     "output_type": "stream",
     "text": [
      "Not There\n"
     ]
    },
    {
     "name": "stderr",
     "output_type": "stream",
     "text": [
      "Processing records:  77%|███████▋  | 11365/14815 [03:17<00:53, 64.38it/s]"
     ]
    },
    {
     "name": "stdout",
     "output_type": "stream",
     "text": [
      "Not There\n"
     ]
    },
    {
     "name": "stderr",
     "output_type": "stream",
     "text": [
      "Processing records:  77%|███████▋  | 11394/14815 [03:17<00:52, 64.74it/s]"
     ]
    },
    {
     "name": "stdout",
     "output_type": "stream",
     "text": [
      "Not There\n",
      "Not There\n",
      "Not There\n"
     ]
    },
    {
     "name": "stderr",
     "output_type": "stream",
     "text": [
      "Processing records:  77%|███████▋  | 11425/14815 [03:18<00:49, 68.42it/s]"
     ]
    },
    {
     "name": "stdout",
     "output_type": "stream",
     "text": [
      "Not There\n",
      "Not There\n"
     ]
    },
    {
     "name": "stderr",
     "output_type": "stream",
     "text": [
      "Processing records:  77%|███████▋  | 11454/14815 [03:18<00:56, 59.97it/s]"
     ]
    },
    {
     "name": "stdout",
     "output_type": "stream",
     "text": [
      "Not There\n"
     ]
    },
    {
     "name": "stderr",
     "output_type": "stream",
     "text": [
      "Processing records:  78%|███████▊  | 11486/14815 [03:19<01:04, 51.58it/s]"
     ]
    },
    {
     "name": "stdout",
     "output_type": "stream",
     "text": [
      "Not There\n",
      "Not There\n"
     ]
    },
    {
     "name": "stderr",
     "output_type": "stream",
     "text": [
      "Processing records:  78%|███████▊  | 11505/14815 [03:19<00:57, 57.70it/s]"
     ]
    },
    {
     "name": "stdout",
     "output_type": "stream",
     "text": [
      "Not There\n",
      "Not There\n",
      "Not There\n"
     ]
    },
    {
     "name": "stderr",
     "output_type": "stream",
     "text": [
      "Processing records:  78%|███████▊  | 11519/14815 [03:20<00:54, 60.38it/s]"
     ]
    },
    {
     "name": "stdout",
     "output_type": "stream",
     "text": [
      "Not There\n",
      "Not There\n"
     ]
    },
    {
     "name": "stderr",
     "output_type": "stream",
     "text": [
      "Processing records:  78%|███████▊  | 11538/14815 [03:20<01:00, 53.78it/s]"
     ]
    },
    {
     "name": "stdout",
     "output_type": "stream",
     "text": [
      "Not There\n"
     ]
    },
    {
     "name": "stderr",
     "output_type": "stream",
     "text": [
      "Processing records:  78%|███████▊  | 11553/14815 [03:20<01:00, 53.64it/s]"
     ]
    },
    {
     "name": "stdout",
     "output_type": "stream",
     "text": [
      "Not There\n",
      "Not There\n",
      "Not There\n",
      "Not There\n",
      "Not There\n"
     ]
    },
    {
     "name": "stderr",
     "output_type": "stream",
     "text": [
      "Processing records:  78%|███████▊  | 11572/14815 [03:21<00:52, 61.95it/s]"
     ]
    },
    {
     "name": "stdout",
     "output_type": "stream",
     "text": [
      "Not There\n",
      "Not There\n",
      "Not There\n"
     ]
    },
    {
     "name": "stderr",
     "output_type": "stream",
     "text": [
      "Processing records:  78%|███████▊  | 11593/14815 [03:21<00:55, 57.74it/s]"
     ]
    },
    {
     "name": "stdout",
     "output_type": "stream",
     "text": [
      "Not There\n"
     ]
    },
    {
     "name": "stderr",
     "output_type": "stream",
     "text": [
      "Processing records:  79%|███████▊  | 11640/14815 [03:22<00:48, 65.06it/s]"
     ]
    },
    {
     "name": "stdout",
     "output_type": "stream",
     "text": [
      "Not There\n",
      "Not There\n"
     ]
    },
    {
     "name": "stderr",
     "output_type": "stream",
     "text": [
      "Processing records:  79%|███████▉  | 11711/14815 [03:23<00:45, 67.56it/s]"
     ]
    },
    {
     "name": "stdout",
     "output_type": "stream",
     "text": [
      "Not There\n",
      "Not There\n"
     ]
    },
    {
     "name": "stderr",
     "output_type": "stream",
     "text": [
      "Processing records:  79%|███████▉  | 11726/14815 [03:23<00:46, 66.10it/s]"
     ]
    },
    {
     "name": "stdout",
     "output_type": "stream",
     "text": [
      "Not There\n"
     ]
    },
    {
     "name": "stderr",
     "output_type": "stream",
     "text": [
      "Processing records:  79%|███████▉  | 11773/14815 [03:24<00:40, 75.14it/s]"
     ]
    },
    {
     "name": "stdout",
     "output_type": "stream",
     "text": [
      "Not There\n",
      "Not There\n",
      "Not There\n",
      "Not There\n"
     ]
    },
    {
     "name": "stderr",
     "output_type": "stream",
     "text": [
      "Processing records:  80%|███████▉  | 11811/14815 [03:24<00:45, 66.28it/s]"
     ]
    },
    {
     "name": "stdout",
     "output_type": "stream",
     "text": [
      "Not There\n",
      "Not There\n"
     ]
    },
    {
     "name": "stderr",
     "output_type": "stream",
     "text": [
      "Processing records:  80%|███████▉  | 11819/14815 [03:25<00:44, 66.98it/s]"
     ]
    },
    {
     "name": "stdout",
     "output_type": "stream",
     "text": [
      "Not There\n"
     ]
    },
    {
     "name": "stderr",
     "output_type": "stream",
     "text": [
      "Processing records:  80%|███████▉  | 11835/14815 [03:25<00:42, 69.79it/s]"
     ]
    },
    {
     "name": "stdout",
     "output_type": "stream",
     "text": [
      "Not There\n",
      "Not There\n",
      "Not There\n",
      "Not There\n"
     ]
    },
    {
     "name": "stderr",
     "output_type": "stream",
     "text": [
      "Processing records:  80%|████████  | 11880/14815 [03:25<00:43, 67.18it/s]"
     ]
    },
    {
     "name": "stdout",
     "output_type": "stream",
     "text": [
      "Not There\n",
      "Not There\n"
     ]
    },
    {
     "name": "stderr",
     "output_type": "stream",
     "text": [
      "Processing records:  80%|████████  | 11900/14815 [03:26<00:34, 83.90it/s]"
     ]
    },
    {
     "name": "stdout",
     "output_type": "stream",
     "text": [
      "Not There\n",
      "Not There\n",
      "Not There\n",
      "Not There\n",
      "Not There\n",
      "Not There\n",
      "Not There\n",
      "Not There\n"
     ]
    },
    {
     "name": "stderr",
     "output_type": "stream",
     "text": [
      "Processing records:  80%|████████  | 11918/14815 [03:26<00:37, 77.10it/s]"
     ]
    },
    {
     "name": "stdout",
     "output_type": "stream",
     "text": [
      "Not There\n",
      "Not There\n",
      "Not There\n"
     ]
    },
    {
     "name": "stderr",
     "output_type": "stream",
     "text": [
      "Processing records:  81%|████████  | 11942/14815 [03:26<00:42, 68.05it/s]"
     ]
    },
    {
     "name": "stdout",
     "output_type": "stream",
     "text": [
      "Not There\n"
     ]
    },
    {
     "name": "stderr",
     "output_type": "stream",
     "text": [
      "Processing records:  81%|████████  | 11977/14815 [03:27<00:43, 64.54it/s]"
     ]
    },
    {
     "name": "stdout",
     "output_type": "stream",
     "text": [
      "Not There\n",
      "Not There\n"
     ]
    },
    {
     "name": "stderr",
     "output_type": "stream",
     "text": [
      "Processing records:  81%|████████  | 11998/14815 [03:27<00:43, 64.49it/s]"
     ]
    },
    {
     "name": "stdout",
     "output_type": "stream",
     "text": [
      "Not There\n",
      "Not There\n"
     ]
    },
    {
     "name": "stderr",
     "output_type": "stream",
     "text": [
      "Processing records:  81%|████████  | 12022/14815 [03:27<00:38, 72.11it/s]"
     ]
    },
    {
     "name": "stdout",
     "output_type": "stream",
     "text": [
      "Not There\n",
      "Not There\n",
      "Not There\n"
     ]
    },
    {
     "name": "stderr",
     "output_type": "stream",
     "text": [
      "Processing records:  81%|████████  | 12030/14815 [03:28<00:37, 73.81it/s]"
     ]
    },
    {
     "name": "stdout",
     "output_type": "stream",
     "text": [
      "Not There\n",
      "Not There\n",
      "Not There\n",
      "Not There\n",
      "Not There\n",
      "Not There\n"
     ]
    },
    {
     "name": "stderr",
     "output_type": "stream",
     "text": [
      "Processing records:  81%|████████▏ | 12056/14815 [03:28<00:40, 68.62it/s]"
     ]
    },
    {
     "name": "stdout",
     "output_type": "stream",
     "text": [
      "Not There\n"
     ]
    },
    {
     "name": "stderr",
     "output_type": "stream",
     "text": [
      "Processing records:  82%|████████▏ | 12119/14815 [03:29<00:42, 64.17it/s]"
     ]
    },
    {
     "name": "stdout",
     "output_type": "stream",
     "text": [
      "Not There\n"
     ]
    },
    {
     "name": "stderr",
     "output_type": "stream",
     "text": [
      "Processing records:  82%|████████▏ | 12134/14815 [03:29<00:41, 64.24it/s]"
     ]
    },
    {
     "name": "stdout",
     "output_type": "stream",
     "text": [
      "Not There\n",
      "Not There\n"
     ]
    },
    {
     "name": "stderr",
     "output_type": "stream",
     "text": [
      "Processing records:  83%|████████▎ | 12268/14815 [03:31<00:41, 61.59it/s]"
     ]
    },
    {
     "name": "stdout",
     "output_type": "stream",
     "text": [
      "Not There\n"
     ]
    },
    {
     "name": "stderr",
     "output_type": "stream",
     "text": [
      "Processing records:  83%|████████▎ | 12282/14815 [03:32<00:40, 62.61it/s]"
     ]
    },
    {
     "name": "stdout",
     "output_type": "stream",
     "text": [
      "Not There\n",
      "Not There\n"
     ]
    },
    {
     "name": "stderr",
     "output_type": "stream",
     "text": [
      "Processing records:  83%|████████▎ | 12358/14815 [03:33<00:37, 65.28it/s]"
     ]
    },
    {
     "name": "stdout",
     "output_type": "stream",
     "text": [
      "Not There\n"
     ]
    },
    {
     "name": "stderr",
     "output_type": "stream",
     "text": [
      "Processing records:  84%|████████▍ | 12445/14815 [03:34<00:32, 72.07it/s]"
     ]
    },
    {
     "name": "stdout",
     "output_type": "stream",
     "text": [
      "Not There\n",
      "Not There\n",
      "Not There\n",
      "Not There\n"
     ]
    },
    {
     "name": "stderr",
     "output_type": "stream",
     "text": [
      "Processing records:  84%|████████▍ | 12470/14815 [03:34<00:30, 76.09it/s]"
     ]
    },
    {
     "name": "stdout",
     "output_type": "stream",
     "text": [
      "Not There\n",
      "Not There\n",
      "Not There\n"
     ]
    },
    {
     "name": "stderr",
     "output_type": "stream",
     "text": [
      "Processing records:  84%|████████▍ | 12479/14815 [03:35<00:30, 77.39it/s]"
     ]
    },
    {
     "name": "stdout",
     "output_type": "stream",
     "text": [
      "Not There\n",
      "Not There\n"
     ]
    },
    {
     "name": "stderr",
     "output_type": "stream",
     "text": [
      "Processing records:  84%|████████▍ | 12503/14815 [03:35<00:32, 71.62it/s]"
     ]
    },
    {
     "name": "stdout",
     "output_type": "stream",
     "text": [
      "Not There\n",
      "Not There\n"
     ]
    },
    {
     "name": "stderr",
     "output_type": "stream",
     "text": [
      "Processing records:  85%|████████▍ | 12533/14815 [03:35<00:33, 69.13it/s]"
     ]
    },
    {
     "name": "stdout",
     "output_type": "stream",
     "text": [
      "Not There\n",
      "Not There\n"
     ]
    },
    {
     "name": "stderr",
     "output_type": "stream",
     "text": [
      "Processing records:  85%|████████▍ | 12565/14815 [03:36<00:36, 60.86it/s]"
     ]
    },
    {
     "name": "stdout",
     "output_type": "stream",
     "text": [
      "Not There\n"
     ]
    },
    {
     "name": "stderr",
     "output_type": "stream",
     "text": [
      "Processing records:  85%|████████▍ | 12589/14815 [03:36<00:31, 70.17it/s]"
     ]
    },
    {
     "name": "stdout",
     "output_type": "stream",
     "text": [
      "Not There\n",
      "Not There\n",
      "Not There\n"
     ]
    },
    {
     "name": "stderr",
     "output_type": "stream",
     "text": [
      "Processing records:  85%|████████▌ | 12626/14815 [03:37<00:32, 66.52it/s]"
     ]
    },
    {
     "name": "stdout",
     "output_type": "stream",
     "text": [
      "Not There\n"
     ]
    },
    {
     "name": "stderr",
     "output_type": "stream",
     "text": [
      "Processing records:  85%|████████▌ | 12648/14815 [03:37<00:33, 65.03it/s]"
     ]
    },
    {
     "name": "stdout",
     "output_type": "stream",
     "text": [
      "Not There\n",
      "Not There\n"
     ]
    },
    {
     "name": "stderr",
     "output_type": "stream",
     "text": [
      "Processing records:  86%|████████▌ | 12684/14815 [03:38<00:32, 65.55it/s]"
     ]
    },
    {
     "name": "stdout",
     "output_type": "stream",
     "text": [
      "Not There\n"
     ]
    },
    {
     "name": "stderr",
     "output_type": "stream",
     "text": [
      "Processing records:  86%|████████▌ | 12714/14815 [03:38<00:30, 69.76it/s]"
     ]
    },
    {
     "name": "stdout",
     "output_type": "stream",
     "text": [
      "Not There\n",
      "Not There\n",
      "Not There\n"
     ]
    },
    {
     "name": "stderr",
     "output_type": "stream",
     "text": [
      "Processing records:  86%|████████▌ | 12731/14815 [03:38<00:29, 69.93it/s]"
     ]
    },
    {
     "name": "stdout",
     "output_type": "stream",
     "text": [
      "Not There\n"
     ]
    },
    {
     "name": "stderr",
     "output_type": "stream",
     "text": [
      "Processing records:  86%|████████▌ | 12776/14815 [03:39<00:29, 68.26it/s]"
     ]
    },
    {
     "name": "stdout",
     "output_type": "stream",
     "text": [
      "Not There\n",
      "Not There\n"
     ]
    },
    {
     "name": "stderr",
     "output_type": "stream",
     "text": [
      "Processing records:  86%|████████▋ | 12783/14815 [03:39<00:29, 68.72it/s]"
     ]
    },
    {
     "name": "stdout",
     "output_type": "stream",
     "text": [
      "Not There\n"
     ]
    },
    {
     "name": "stderr",
     "output_type": "stream",
     "text": [
      "Processing records:  87%|████████▋ | 12832/14815 [03:40<00:35, 56.17it/s]"
     ]
    },
    {
     "name": "stdout",
     "output_type": "stream",
     "text": [
      "Not There\n",
      "Not There\n"
     ]
    },
    {
     "name": "stderr",
     "output_type": "stream",
     "text": [
      "Processing records:  87%|████████▋ | 12863/14815 [03:41<00:35, 55.72it/s]"
     ]
    },
    {
     "name": "stdout",
     "output_type": "stream",
     "text": [
      "Not There\n"
     ]
    },
    {
     "name": "stderr",
     "output_type": "stream",
     "text": [
      "Processing records:  87%|████████▋ | 12887/14815 [03:41<00:34, 55.67it/s]"
     ]
    },
    {
     "name": "stdout",
     "output_type": "stream",
     "text": [
      "Not There\n",
      "Not There\n"
     ]
    },
    {
     "name": "stderr",
     "output_type": "stream",
     "text": [
      "Processing records:  87%|████████▋ | 12908/14815 [03:41<00:32, 58.47it/s]"
     ]
    },
    {
     "name": "stdout",
     "output_type": "stream",
     "text": [
      "Not There\n",
      "Not There\n"
     ]
    },
    {
     "name": "stderr",
     "output_type": "stream",
     "text": [
      "Processing records:  87%|████████▋ | 12943/14815 [03:42<00:28, 65.56it/s]"
     ]
    },
    {
     "name": "stdout",
     "output_type": "stream",
     "text": [
      "Not There\n",
      "Not There\n",
      "Not There\n",
      "Not There\n"
     ]
    },
    {
     "name": "stderr",
     "output_type": "stream",
     "text": [
      "Processing records:  88%|████████▊ | 13003/14815 [03:43<00:26, 67.18it/s]"
     ]
    },
    {
     "name": "stdout",
     "output_type": "stream",
     "text": [
      "Not There\n",
      "Not There\n"
     ]
    },
    {
     "name": "stderr",
     "output_type": "stream",
     "text": [
      "Processing records:  88%|████████▊ | 13039/14815 [03:43<00:26, 67.26it/s]"
     ]
    },
    {
     "name": "stdout",
     "output_type": "stream",
     "text": [
      "Not There\n",
      "Not There\n"
     ]
    },
    {
     "name": "stderr",
     "output_type": "stream",
     "text": [
      "Processing records:  88%|████████▊ | 13070/14815 [03:44<00:24, 72.59it/s]"
     ]
    },
    {
     "name": "stdout",
     "output_type": "stream",
     "text": [
      "Not There\n",
      "Not There\n",
      "Not There\n"
     ]
    },
    {
     "name": "stderr",
     "output_type": "stream",
     "text": [
      "Processing records:  88%|████████▊ | 13095/14815 [03:44<00:24, 70.76it/s]"
     ]
    },
    {
     "name": "stdout",
     "output_type": "stream",
     "text": [
      "Not There\n"
     ]
    },
    {
     "name": "stderr",
     "output_type": "stream",
     "text": [
      "Processing records:  89%|████████▉ | 13244/14815 [03:47<00:24, 65.26it/s]"
     ]
    },
    {
     "name": "stdout",
     "output_type": "stream",
     "text": [
      "Not There\n",
      "Not There\n"
     ]
    },
    {
     "name": "stderr",
     "output_type": "stream",
     "text": [
      "Processing records:  89%|████████▉ | 13259/14815 [03:47<00:24, 64.16it/s]"
     ]
    },
    {
     "name": "stdout",
     "output_type": "stream",
     "text": [
      "Not There\n",
      "Not There\n",
      "Not There\n"
     ]
    },
    {
     "name": "stderr",
     "output_type": "stream",
     "text": [
      "Processing records:  90%|████████▉ | 13282/14815 [03:47<00:23, 66.42it/s]"
     ]
    },
    {
     "name": "stdout",
     "output_type": "stream",
     "text": [
      "Not There\n"
     ]
    },
    {
     "name": "stderr",
     "output_type": "stream",
     "text": [
      "Processing records:  90%|████████▉ | 13312/14815 [03:48<00:22, 65.75it/s]"
     ]
    },
    {
     "name": "stdout",
     "output_type": "stream",
     "text": [
      "Not There\n",
      "Not There\n"
     ]
    },
    {
     "name": "stderr",
     "output_type": "stream",
     "text": [
      "Processing records:  90%|█████████ | 13348/14815 [03:48<00:22, 66.67it/s]"
     ]
    },
    {
     "name": "stdout",
     "output_type": "stream",
     "text": [
      "Not There\n",
      "Not There\n"
     ]
    },
    {
     "name": "stderr",
     "output_type": "stream",
     "text": [
      "Processing records:  90%|█████████ | 13369/14815 [03:48<00:24, 59.95it/s]"
     ]
    },
    {
     "name": "stdout",
     "output_type": "stream",
     "text": [
      "Not There\n"
     ]
    },
    {
     "name": "stderr",
     "output_type": "stream",
     "text": [
      "Processing records:  91%|█████████ | 13475/14815 [03:50<00:20, 66.46it/s]"
     ]
    },
    {
     "name": "stdout",
     "output_type": "stream",
     "text": [
      "Not There\n",
      "Not There\n"
     ]
    },
    {
     "name": "stderr",
     "output_type": "stream",
     "text": [
      "Processing records:  91%|█████████ | 13512/14815 [03:51<00:19, 66.08it/s]"
     ]
    },
    {
     "name": "stdout",
     "output_type": "stream",
     "text": [
      "Not There\n"
     ]
    },
    {
     "name": "stderr",
     "output_type": "stream",
     "text": [
      "Processing records:  91%|█████████▏| 13533/14815 [03:51<00:20, 63.13it/s]"
     ]
    },
    {
     "name": "stdout",
     "output_type": "stream",
     "text": [
      "Not There\n",
      "Not There\n"
     ]
    },
    {
     "name": "stderr",
     "output_type": "stream",
     "text": [
      "Processing records:  91%|█████████▏| 13554/14815 [03:51<00:21, 59.25it/s]"
     ]
    },
    {
     "name": "stdout",
     "output_type": "stream",
     "text": [
      "Not There\n",
      "Not There\n"
     ]
    },
    {
     "name": "stderr",
     "output_type": "stream",
     "text": [
      "Processing records:  92%|█████████▏| 13586/14815 [03:52<00:17, 70.86it/s]"
     ]
    },
    {
     "name": "stdout",
     "output_type": "stream",
     "text": [
      "Not There\n",
      "Not There\n",
      "Not There\n",
      "Not There\n"
     ]
    },
    {
     "name": "stderr",
     "output_type": "stream",
     "text": [
      "Processing records:  92%|█████████▏| 13602/14815 [03:52<00:18, 67.17it/s]"
     ]
    },
    {
     "name": "stdout",
     "output_type": "stream",
     "text": [
      "Not There\n",
      "Not There\n"
     ]
    },
    {
     "name": "stderr",
     "output_type": "stream",
     "text": [
      "Processing records:  92%|█████████▏| 13616/14815 [03:52<00:18, 63.53it/s]"
     ]
    },
    {
     "name": "stdout",
     "output_type": "stream",
     "text": [
      "Not There\n",
      "Not There\n"
     ]
    },
    {
     "name": "stderr",
     "output_type": "stream",
     "text": [
      "Processing records:  93%|█████████▎| 13704/14815 [03:54<00:17, 62.26it/s]"
     ]
    },
    {
     "name": "stdout",
     "output_type": "stream",
     "text": [
      "Not There\n",
      "Not There\n",
      "Not There\n"
     ]
    },
    {
     "name": "stderr",
     "output_type": "stream",
     "text": [
      "Processing records:  93%|█████████▎| 13734/14815 [03:54<00:15, 68.15it/s]"
     ]
    },
    {
     "name": "stdout",
     "output_type": "stream",
     "text": [
      "Not There\n",
      "Not There\n"
     ]
    },
    {
     "name": "stderr",
     "output_type": "stream",
     "text": [
      "Processing records:  93%|█████████▎| 13750/14815 [03:55<00:16, 64.54it/s]"
     ]
    },
    {
     "name": "stdout",
     "output_type": "stream",
     "text": [
      "Not There\n",
      "Not There\n"
     ]
    },
    {
     "name": "stderr",
     "output_type": "stream",
     "text": [
      "Processing records:  93%|█████████▎| 13771/14815 [03:55<00:17, 60.77it/s]"
     ]
    },
    {
     "name": "stdout",
     "output_type": "stream",
     "text": [
      "Not There\n",
      "Not There\n"
     ]
    },
    {
     "name": "stderr",
     "output_type": "stream",
     "text": [
      "Processing records:  93%|█████████▎| 13793/14815 [03:55<00:16, 63.85it/s]"
     ]
    },
    {
     "name": "stdout",
     "output_type": "stream",
     "text": [
      "Not There\n"
     ]
    },
    {
     "name": "stderr",
     "output_type": "stream",
     "text": [
      "Processing records:  93%|█████████▎| 13814/14815 [03:56<00:15, 63.25it/s]"
     ]
    },
    {
     "name": "stdout",
     "output_type": "stream",
     "text": [
      "Not There\n",
      "Not There\n"
     ]
    },
    {
     "name": "stderr",
     "output_type": "stream",
     "text": [
      "Processing records:  94%|█████████▎| 13878/14815 [03:57<00:17, 52.67it/s]"
     ]
    },
    {
     "name": "stdout",
     "output_type": "stream",
     "text": [
      "Not There\n",
      "Not There\n"
     ]
    },
    {
     "name": "stderr",
     "output_type": "stream",
     "text": [
      "Processing records:  94%|█████████▍| 13903/14815 [03:57<00:16, 56.27it/s]"
     ]
    },
    {
     "name": "stdout",
     "output_type": "stream",
     "text": [
      "Not There\n"
     ]
    },
    {
     "name": "stderr",
     "output_type": "stream",
     "text": [
      "Processing records:  94%|█████████▍| 13957/14815 [03:58<00:16, 52.84it/s]"
     ]
    },
    {
     "name": "stdout",
     "output_type": "stream",
     "text": [
      "Not There\n",
      "Not There\n"
     ]
    },
    {
     "name": "stderr",
     "output_type": "stream",
     "text": [
      "Processing records:  95%|█████████▌| 14098/14815 [04:01<00:11, 63.42it/s]"
     ]
    },
    {
     "name": "stdout",
     "output_type": "stream",
     "text": [
      "Not There\n"
     ]
    },
    {
     "name": "stderr",
     "output_type": "stream",
     "text": [
      "Processing records:  95%|█████████▌| 14112/14815 [04:01<00:12, 56.54it/s]"
     ]
    },
    {
     "name": "stdout",
     "output_type": "stream",
     "text": [
      "Not There\n",
      "Not There\n"
     ]
    },
    {
     "name": "stderr",
     "output_type": "stream",
     "text": [
      "Processing records:  95%|█████████▌| 14146/14815 [04:02<00:10, 63.97it/s]"
     ]
    },
    {
     "name": "stdout",
     "output_type": "stream",
     "text": [
      "Not There\n"
     ]
    },
    {
     "name": "stderr",
     "output_type": "stream",
     "text": [
      "Processing records:  96%|█████████▌| 14224/14815 [04:03<00:08, 66.67it/s]"
     ]
    },
    {
     "name": "stdout",
     "output_type": "stream",
     "text": [
      "Not There\n"
     ]
    },
    {
     "name": "stderr",
     "output_type": "stream",
     "text": [
      "Processing records:  96%|█████████▌| 14247/14815 [04:03<00:08, 68.88it/s]"
     ]
    },
    {
     "name": "stdout",
     "output_type": "stream",
     "text": [
      "Not There\n",
      "Not There\n",
      "Not There\n"
     ]
    },
    {
     "name": "stderr",
     "output_type": "stream",
     "text": [
      "Processing records:  96%|█████████▋| 14272/14815 [04:04<00:07, 72.39it/s]"
     ]
    },
    {
     "name": "stdout",
     "output_type": "stream",
     "text": [
      "Not There\n",
      "Not There\n",
      "Not There\n",
      "Not There\n",
      "Not There\n"
     ]
    },
    {
     "name": "stderr",
     "output_type": "stream",
     "text": [
      "Processing records:  96%|█████████▋| 14288/14815 [04:04<00:07, 69.62it/s]"
     ]
    },
    {
     "name": "stdout",
     "output_type": "stream",
     "text": [
      "Not There\n",
      "Not There\n",
      "Not There\n"
     ]
    },
    {
     "name": "stderr",
     "output_type": "stream",
     "text": [
      "Processing records:  97%|█████████▋| 14302/14815 [04:04<00:07, 67.70it/s]"
     ]
    },
    {
     "name": "stdout",
     "output_type": "stream",
     "text": [
      "Not There\n"
     ]
    },
    {
     "name": "stderr",
     "output_type": "stream",
     "text": [
      "Processing records:  98%|█████████▊| 14522/14815 [04:08<00:04, 65.38it/s]"
     ]
    },
    {
     "name": "stdout",
     "output_type": "stream",
     "text": [
      "Not There\n"
     ]
    },
    {
     "name": "stderr",
     "output_type": "stream",
     "text": [
      "Processing records:  98%|█████████▊| 14543/14815 [04:08<00:04, 65.25it/s]"
     ]
    },
    {
     "name": "stdout",
     "output_type": "stream",
     "text": [
      "Not There\n"
     ]
    },
    {
     "name": "stderr",
     "output_type": "stream",
     "text": [
      "Processing records:  99%|█████████▊| 14621/14815 [04:10<00:02, 64.99it/s]"
     ]
    },
    {
     "name": "stdout",
     "output_type": "stream",
     "text": [
      "Not There\n"
     ]
    },
    {
     "name": "stderr",
     "output_type": "stream",
     "text": [
      "Processing records:  99%|█████████▉| 14719/14815 [04:11<00:01, 64.86it/s]"
     ]
    },
    {
     "name": "stdout",
     "output_type": "stream",
     "text": [
      "Not There\n"
     ]
    },
    {
     "name": "stderr",
     "output_type": "stream",
     "text": [
      "Processing records: 100%|██████████| 14815/14815 [04:13<00:00, 58.51it/s]\n"
     ]
    }
   ],
   "source": [
    "data=[]\n",
    "model = SentenceTransformer('all-MiniLM-L6-v2')\n",
    "for i in tqdm(range(len(clean_df)), desc=\"Processing records\"):\n",
    "    try:\n",
    "        # print(i)\n",
    "        # print(clean_df['Title-Code'][i])\n",
    "        title_code = clean_df['Title-Code'][i]\n",
    "        title_name = clean_df['Title Name'][i]\n",
    "        title_name_s = title_name.replace(\".\", \"\")\n",
    "        \n",
    "        soundex_name = soundex(title_name_s)\n",
    "        metaphone_name = doublemetaphone(title_name_s)[0]\n",
    "        double_metaphone_name = doublemetaphone(title_name_s)[1]\n",
    "        nysiis_name = nysiis(title_name_s)\n",
    "        vector = model.encode(title_name_s).tolist()\n",
    "\n",
    "        # Append processed data to the list\n",
    "        data.append({\n",
    "            'Title_Code': title_code,\n",
    "            'Title_Name': title_name,\n",
    "            'Soundex_Name': soundex_name,\n",
    "            'Metaphone_Name': metaphone_name,\n",
    "            'Double_Metaphone_Primary': metaphone_name,\n",
    "            'Double_Metaphone_Secondary':double_metaphone_name,\n",
    "            'NYSIIS_Name': nysiis_name,\n",
    "            'vector': vector\n",
    "        })\n",
    "    except:\n",
    "        print(\"Not There\")\n",
    "    "
   ]
  },
  {
   "cell_type": "code",
   "execution_count": 7,
   "metadata": {},
   "outputs": [],
   "source": [
    "import json\n",
    "output_json = {\n",
    "    \"rows\": data\n",
    "}\n",
    "with open(\"titles_data_withTitle.json\", \"w\", encoding=\"utf-8\") as json_file:\n",
    "    json.dump(output_json, json_file, ensure_ascii=False, indent=4)"
   ]
  }
 ],
 "metadata": {
  "kernelspec": {
   "display_name": "sarthi",
   "language": "python",
   "name": "python3"
  },
  "language_info": {
   "codemirror_mode": {
    "name": "ipython",
    "version": 3
   },
   "file_extension": ".py",
   "mimetype": "text/x-python",
   "name": "python",
   "nbconvert_exporter": "python",
   "pygments_lexer": "ipython3",
   "version": "3.10.15"
  }
 },
 "nbformat": 4,
 "nbformat_minor": 2
}
